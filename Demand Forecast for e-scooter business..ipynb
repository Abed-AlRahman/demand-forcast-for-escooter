{
 "cells": [
  {
   "cell_type": "markdown",
   "metadata": {
    "id": "ILQ7u4zT8EbY"
   },
   "source": [
    "# Demand Forecast for e-scooter business.\n",
    "---\n",
    "\n",
    "<div class=\"alert alert-block alert-info\">\n",
    "    This notebook was prepared by <b>Abed AlRahman Naser</b>.<br>\n",
    "</div>\n",
    "\n",
    "#### The dataset used in this notebook was taken from: https://data.austintexas.gov/Transportation-and-Mobility/Shared-Micromobility-Vehicle-Trips/7d8e-dm7r\n",
    "\n",
    "Data Fields\n",
    " * ID - A unique ID for each trip. This is an arbitrary sequence and is not derived from any identifier used by the service provider.\n",
    "\n",
    "__Content of this notebook:__\n",
    "1. __EDA.__\n",
    "2. __Feature Engineering.__\n",
    "3. __Machine Learning models.__\n",
    "4. __Conclusion.__\n",
    "  \n"
   ]
  },
  {
   "cell_type": "code",
   "execution_count": 1,
   "metadata": {
    "id": "Yt6-lxTcKd2o"
   },
   "outputs": [],
   "source": [
    "import pandas as pd\n",
    "import numpy as np\n",
    "import matplotlib.pyplot as plt\n",
    "import seaborn as sns"
   ]
  },
  {
   "cell_type": "code",
   "execution_count": 2,
   "metadata": {
    "colab": {
     "base_uri": "https://localhost:8080/"
    },
    "id": "wjh0tuZPJZeD",
    "outputId": "1dba9451-efd0-4530-a063-1cf31a4051c0"
   },
   "outputs": [
    {
     "name": "stderr",
     "output_type": "stream",
     "text": [
      "/usr/local/lib/python3.6/dist-packages/IPython/core/interactiveshell.py:2718: DtypeWarning: Columns (11,12,14,15) have mixed types.Specify dtype option on import or set low_memory=False.\n",
      "  interactivity=interactivity, compiler=compiler, result=result)\n"
     ]
    }
   ],
   "source": [
    "df = pd.read_csv('drive/MyDrive/dirUrl/rows.csv')"
   ]
  },
  {
   "cell_type": "code",
   "execution_count": 3,
   "metadata": {
    "id": "DlpkXnuKMBkf"
   },
   "outputs": [],
   "source": [
    "# removing null values\n",
    "df = df.dropna()"
   ]
  },
  {
   "cell_type": "code",
   "execution_count": 4,
   "metadata": {
    "colab": {
     "base_uri": "https://localhost:8080/",
     "height": 397
    },
    "id": "VvQVRrbqLROJ",
    "outputId": "e82f29ff-46f3-41a6-b609-b648d2f1689a"
   },
   "outputs": [
    {
     "data": {
      "text/html": [
       "<div>\n",
       "<style scoped>\n",
       "    .dataframe tbody tr th:only-of-type {\n",
       "        vertical-align: middle;\n",
       "    }\n",
       "\n",
       "    .dataframe tbody tr th {\n",
       "        vertical-align: top;\n",
       "    }\n",
       "\n",
       "    .dataframe thead th {\n",
       "        text-align: right;\n",
       "    }\n",
       "</style>\n",
       "<table border=\"1\" class=\"dataframe\">\n",
       "  <thead>\n",
       "    <tr style=\"text-align: right;\">\n",
       "      <th></th>\n",
       "      <th>ID</th>\n",
       "      <th>Device ID</th>\n",
       "      <th>Vehicle Type</th>\n",
       "      <th>Trip Duration</th>\n",
       "      <th>Trip Distance</th>\n",
       "      <th>Start Time</th>\n",
       "      <th>End Time</th>\n",
       "      <th>Modified Date</th>\n",
       "      <th>Month</th>\n",
       "      <th>Hour</th>\n",
       "      <th>Day of Week</th>\n",
       "      <th>Council District (Start)</th>\n",
       "      <th>Council District (End)</th>\n",
       "      <th>Year</th>\n",
       "      <th>Census Tract Start</th>\n",
       "      <th>Census Tract End</th>\n",
       "    </tr>\n",
       "  </thead>\n",
       "  <tbody>\n",
       "    <tr>\n",
       "      <th>0</th>\n",
       "      <td>f33ffbe9-7462-4310-8d79-382842d4f374</td>\n",
       "      <td>61a22e55-d5b3-4fde-8d9a-ccaed12ce35c</td>\n",
       "      <td>scooter</td>\n",
       "      <td>2133</td>\n",
       "      <td>12794.0</td>\n",
       "      <td>04/18/2020 05:15:00 AM</td>\n",
       "      <td>04/18/2020 05:45:00 AM</td>\n",
       "      <td>04/19/2020 07:30:34 AM</td>\n",
       "      <td>4</td>\n",
       "      <td>5</td>\n",
       "      <td>5</td>\n",
       "      <td>9</td>\n",
       "      <td>4</td>\n",
       "      <td>2020</td>\n",
       "      <td>48453001100</td>\n",
       "      <td>48453001806</td>\n",
       "    </tr>\n",
       "    <tr>\n",
       "      <th>1</th>\n",
       "      <td>ddf0fa7c-41e2-43c4-b7ea-e4b7a323be78</td>\n",
       "      <td>f07ddca9-59b3-4ac0-a02b-459a42f8b58b</td>\n",
       "      <td>scooter</td>\n",
       "      <td>197</td>\n",
       "      <td>917.0</td>\n",
       "      <td>04/18/2020 05:30:00 AM</td>\n",
       "      <td>04/18/2020 05:45:00 AM</td>\n",
       "      <td>04/19/2020 07:30:33 AM</td>\n",
       "      <td>4</td>\n",
       "      <td>5</td>\n",
       "      <td>5</td>\n",
       "      <td>3</td>\n",
       "      <td>3</td>\n",
       "      <td>2020</td>\n",
       "      <td>48453000902</td>\n",
       "      <td>48453000902</td>\n",
       "    </tr>\n",
       "    <tr>\n",
       "      <th>2</th>\n",
       "      <td>2d895f0c-9586-4458-9e58-99cac4bc0191</td>\n",
       "      <td>8ced24e4-7396-4bd4-884a-fc7733ecfae3</td>\n",
       "      <td>scooter</td>\n",
       "      <td>721</td>\n",
       "      <td>3621.0</td>\n",
       "      <td>04/18/2020 05:15:00 AM</td>\n",
       "      <td>04/18/2020 05:30:00 AM</td>\n",
       "      <td>04/19/2020 07:30:33 AM</td>\n",
       "      <td>4</td>\n",
       "      <td>5</td>\n",
       "      <td>5</td>\n",
       "      <td>9</td>\n",
       "      <td>1</td>\n",
       "      <td>2020</td>\n",
       "      <td>48453000304</td>\n",
       "      <td>48453002105</td>\n",
       "    </tr>\n",
       "    <tr>\n",
       "      <th>3</th>\n",
       "      <td>b180f674-0e1d-4d78-9838-2b20a45bf9d2</td>\n",
       "      <td>1ed7b1f7-a174-422e-a4a2-d688e59732a9</td>\n",
       "      <td>scooter</td>\n",
       "      <td>214</td>\n",
       "      <td>788.0</td>\n",
       "      <td>04/18/2020 05:15:00 AM</td>\n",
       "      <td>04/18/2020 05:15:00 AM</td>\n",
       "      <td>04/19/2020 07:30:33 AM</td>\n",
       "      <td>4</td>\n",
       "      <td>5</td>\n",
       "      <td>5</td>\n",
       "      <td>5</td>\n",
       "      <td>5</td>\n",
       "      <td>2020</td>\n",
       "      <td>48453001901</td>\n",
       "      <td>48453001901</td>\n",
       "    </tr>\n",
       "    <tr>\n",
       "      <th>4</th>\n",
       "      <td>aa2bc2f8-fd08-4e58-85c4-90c44be2fe4d</td>\n",
       "      <td>4da13a13-db11-4610-a844-97a19d82fefa</td>\n",
       "      <td>scooter</td>\n",
       "      <td>622</td>\n",
       "      <td>3009.0</td>\n",
       "      <td>04/18/2020 05:00:00 AM</td>\n",
       "      <td>04/18/2020 05:15:00 AM</td>\n",
       "      <td>04/19/2020 07:30:33 AM</td>\n",
       "      <td>4</td>\n",
       "      <td>5</td>\n",
       "      <td>5</td>\n",
       "      <td>9</td>\n",
       "      <td>9</td>\n",
       "      <td>2020</td>\n",
       "      <td>48453000601</td>\n",
       "      <td>48453000304</td>\n",
       "    </tr>\n",
       "  </tbody>\n",
       "</table>\n",
       "</div>"
      ],
      "text/plain": [
       "                                     ID  ... Census Tract End\n",
       "0  f33ffbe9-7462-4310-8d79-382842d4f374  ...      48453001806\n",
       "1  ddf0fa7c-41e2-43c4-b7ea-e4b7a323be78  ...      48453000902\n",
       "2  2d895f0c-9586-4458-9e58-99cac4bc0191  ...      48453002105\n",
       "3  b180f674-0e1d-4d78-9838-2b20a45bf9d2  ...      48453001901\n",
       "4  aa2bc2f8-fd08-4e58-85c4-90c44be2fe4d  ...      48453000304\n",
       "\n",
       "[5 rows x 16 columns]"
      ]
     },
     "execution_count": 4,
     "metadata": {
      "tags": []
     },
     "output_type": "execute_result"
    }
   ],
   "source": [
    "df.head(5)"
   ]
  },
  {
   "cell_type": "markdown",
   "metadata": {
    "id": "Yl6lvYYdFB5r"
   },
   "source": [
    "## Data Cleaning & Feature Engineering\n",
    "---"
   ]
  },
  {
   "cell_type": "code",
   "execution_count": 5,
   "metadata": {
    "colab": {
     "base_uri": "https://localhost:8080/"
    },
    "id": "UtnX_MaYFH33",
    "outputId": "bf331c2d-0ac7-4b14-94a8-1d09b8ba424c"
   },
   "outputs": [
    {
     "name": "stdout",
     "output_type": "stream",
     "text": [
      "<class 'pandas.core.frame.DataFrame'>\n",
      "Int64Index: 10102462 entries, 0 to 10102596\n",
      "Data columns (total 16 columns):\n",
      " #   Column                    Dtype  \n",
      "---  ------                    -----  \n",
      " 0   ID                        object \n",
      " 1   Device ID                 object \n",
      " 2   Vehicle Type              object \n",
      " 3   Trip Duration             int64  \n",
      " 4   Trip Distance             float64\n",
      " 5   Start Time                object \n",
      " 6   End Time                  object \n",
      " 7   Modified Date             object \n",
      " 8   Month                     int64  \n",
      " 9   Hour                      int64  \n",
      " 10  Day of Week               int64  \n",
      " 11  Council District (Start)  object \n",
      " 12  Council District (End)    object \n",
      " 13  Year                      int64  \n",
      " 14  Census Tract Start        object \n",
      " 15  Census Tract End          object \n",
      "dtypes: float64(1), int64(5), object(10)\n",
      "memory usage: 1.3+ GB\n"
     ]
    }
   ],
   "source": [
    "df.info()"
   ]
  },
  {
   "cell_type": "code",
   "execution_count": 6,
   "metadata": {
    "colab": {
     "base_uri": "https://localhost:8080/"
    },
    "id": "SNIxsTqXK9bw",
    "outputId": "d3b4199a-e627-4286-bd36-fe0c5ccd010e"
   },
   "outputs": [
    {
     "data": {
      "text/plain": [
       "array([9, 3, 5, 1, 4, 7, 8, 0, 10, 2, '1', '9', '3', '5', '7', '0', '8',\n",
       "       '10', '2', '4', 'None', '6', 6], dtype=object)"
      ]
     },
     "execution_count": 6,
     "metadata": {
      "tags": []
     },
     "output_type": "execute_result"
    }
   ],
   "source": [
    "df['Council District (Start)'].unique()"
   ]
  },
  {
   "cell_type": "code",
   "execution_count": 7,
   "metadata": {
    "colab": {
     "base_uri": "https://localhost:8080/"
    },
    "id": "HHS8P-T8L41a",
    "outputId": "0f63d0ac-384e-4882-c409-a789f994fae8"
   },
   "outputs": [
    {
     "data": {
      "text/plain": [
       "array([4, 3, 1, 5, 9, 8, 2, 7, 10, 0, 6, '9', '1', '3', '5', '0', '8',\n",
       "       '4', '10', '7', '2', 'None', '6'], dtype=object)"
      ]
     },
     "execution_count": 7,
     "metadata": {
      "tags": []
     },
     "output_type": "execute_result"
    }
   ],
   "source": [
    "df['Council District (End)'].unique()"
   ]
  },
  {
   "cell_type": "markdown",
   "metadata": {
    "id": "6cfIEmd1OPHK"
   },
   "source": [
    "After searching about Austin Texas districts, I found out that there are 10 districts ranged from 1 to 10 which means that 0's are missing values in addition to None.\n",
    "Source: https://www.austintexas.gov/GIS/CouncilDistrictMap/"
   ]
  },
  {
   "cell_type": "code",
   "execution_count": 8,
   "metadata": {
    "id": "MycDD8NPOQHQ"
   },
   "outputs": [],
   "source": [
    "# removing missing values fron Counsil District columns\n",
    "df=df[((df['Council District (Start)']=='0')==False)&((df['Council District (Start)']==0)==False)&((df['Council District (Start)']=='None')==False)&((df['Council District (End)']=='0')==False)&((df['Council District (End)']==0)==False)&((df['Council District (End)']=='None')==False)]"
   ]
  },
  {
   "cell_type": "code",
   "execution_count": 9,
   "metadata": {
    "colab": {
     "base_uri": "https://localhost:8080/"
    },
    "id": "Ej1VXid_i4fc",
    "outputId": "e1dc6059-3a28-44a1-9b9f-b9470bc39043"
   },
   "outputs": [
    {
     "data": {
      "text/plain": [
       "array([9, 3, 5, 1, 4, 7, 8, 10, 2, '1', '9', '3', '5', '7', '8', '10',\n",
       "       '2', '4', '6', 6], dtype=object)"
      ]
     },
     "execution_count": 9,
     "metadata": {
      "tags": []
     },
     "output_type": "execute_result"
    }
   ],
   "source": [
    "df['Council District (Start)'].unique()"
   ]
  },
  {
   "cell_type": "code",
   "execution_count": 10,
   "metadata": {
    "colab": {
     "base_uri": "https://localhost:8080/"
    },
    "id": "yKsfbgBWi4fe",
    "outputId": "d1d51f45-76c6-4bba-b561-b1f8d152a460"
   },
   "outputs": [
    {
     "data": {
      "text/plain": [
       "array([4, 3, 1, 5, 9, 8, 2, 7, 10, 6, '9', '1', '3', '5', '8', '4', '10',\n",
       "       '7', '2', '6'], dtype=object)"
      ]
     },
     "execution_count": 10,
     "metadata": {
      "tags": []
     },
     "output_type": "execute_result"
    }
   ],
   "source": [
    "df['Council District (End)'].unique()"
   ]
  },
  {
   "cell_type": "code",
   "execution_count": 11,
   "metadata": {
    "id": "W0xR2NW0oaTU"
   },
   "outputs": [],
   "source": [
    "#removing non scooters\n",
    "df=df[df['Vehicle Type']==\"scooter\"]"
   ]
  },
  {
   "cell_type": "code",
   "execution_count": 12,
   "metadata": {
    "id": "pwNGUgxnpLwp"
   },
   "outputs": [],
   "source": [
    "# dropping the scooter column\n",
    "df=df.drop(columns=['Vehicle Type'])"
   ]
  },
  {
   "cell_type": "code",
   "execution_count": 13,
   "metadata": {
    "colab": {
     "base_uri": "https://localhost:8080/",
     "height": 127
    },
    "id": "dZHq5YpwloV2",
    "outputId": "9adefc10-6254-4a4b-8cee-653565b5e70e"
   },
   "outputs": [
    {
     "data": {
      "text/html": [
       "<div>\n",
       "<style scoped>\n",
       "    .dataframe tbody tr th:only-of-type {\n",
       "        vertical-align: middle;\n",
       "    }\n",
       "\n",
       "    .dataframe tbody tr th {\n",
       "        vertical-align: top;\n",
       "    }\n",
       "\n",
       "    .dataframe thead th {\n",
       "        text-align: right;\n",
       "    }\n",
       "</style>\n",
       "<table border=\"1\" class=\"dataframe\">\n",
       "  <thead>\n",
       "    <tr style=\"text-align: right;\">\n",
       "      <th></th>\n",
       "      <th>ID</th>\n",
       "      <th>Device ID</th>\n",
       "      <th>Trip Duration</th>\n",
       "      <th>Trip Distance</th>\n",
       "      <th>Start Time</th>\n",
       "      <th>End Time</th>\n",
       "      <th>Modified Date</th>\n",
       "      <th>Month</th>\n",
       "      <th>Hour</th>\n",
       "      <th>Day of Week</th>\n",
       "      <th>Council District (Start)</th>\n",
       "      <th>Council District (End)</th>\n",
       "      <th>Year</th>\n",
       "      <th>Census Tract Start</th>\n",
       "      <th>Census Tract End</th>\n",
       "    </tr>\n",
       "  </thead>\n",
       "  <tbody>\n",
       "    <tr>\n",
       "      <th>0</th>\n",
       "      <td>f33ffbe9-7462-4310-8d79-382842d4f374</td>\n",
       "      <td>61a22e55-d5b3-4fde-8d9a-ccaed12ce35c</td>\n",
       "      <td>2133</td>\n",
       "      <td>12794.0</td>\n",
       "      <td>04/18/2020 05:15:00 AM</td>\n",
       "      <td>04/18/2020 05:45:00 AM</td>\n",
       "      <td>04/19/2020 07:30:34 AM</td>\n",
       "      <td>4</td>\n",
       "      <td>5</td>\n",
       "      <td>5</td>\n",
       "      <td>9</td>\n",
       "      <td>4</td>\n",
       "      <td>2020</td>\n",
       "      <td>48453001100</td>\n",
       "      <td>48453001806</td>\n",
       "    </tr>\n",
       "  </tbody>\n",
       "</table>\n",
       "</div>"
      ],
      "text/plain": [
       "                                     ID  ... Census Tract End\n",
       "0  f33ffbe9-7462-4310-8d79-382842d4f374  ...      48453001806\n",
       "\n",
       "[1 rows x 15 columns]"
      ]
     },
     "execution_count": 13,
     "metadata": {
      "tags": []
     },
     "output_type": "execute_result"
    }
   ],
   "source": [
    "df.head(1)"
   ]
  },
  {
   "cell_type": "code",
   "execution_count": 14,
   "metadata": {
    "colab": {
     "base_uri": "https://localhost:8080/"
    },
    "id": "tMIUpDIrlxzJ",
    "outputId": "d537a1fc-8b0b-487d-e70f-2f6d9172373b"
   },
   "outputs": [
    {
     "data": {
      "text/plain": [
       "90596"
      ]
     },
     "execution_count": 14,
     "metadata": {
      "tags": []
     },
     "output_type": "execute_result"
    }
   ],
   "source": [
    "len(df['Device ID'].unique())"
   ]
  },
  {
   "cell_type": "code",
   "execution_count": 15,
   "metadata": {
    "colab": {
     "base_uri": "https://localhost:8080/"
    },
    "id": "6mbh-hVUofwK",
    "outputId": "22089690-6a98-4604-9eab-d5f7b3fa29a1"
   },
   "outputs": [
    {
     "data": {
      "text/plain": [
       "Index(['ID', 'Device ID', 'Trip Duration', 'Trip Distance', 'Start Time',\n",
       "       'End Time', 'Modified Date', 'Month', 'Hour', 'Day of Week',\n",
       "       'Council District (Start)', 'Council District (End)', 'Year',\n",
       "       'Census Tract Start', 'Census Tract End'],\n",
       "      dtype='object')"
      ]
     },
     "execution_count": 15,
     "metadata": {
      "tags": []
     },
     "output_type": "execute_result"
    }
   ],
   "source": [
    "df.columns"
   ]
  },
  {
   "cell_type": "code",
   "execution_count": 16,
   "metadata": {
    "id": "ky1YTn6VoU2N"
   },
   "outputs": [],
   "source": [
    "df=df.drop(columns=['ID', 'Device ID', 'Trip Duration', 'Trip Distance', 'Modified Date', 'Year',\n",
    "       'Census Tract Start', 'Census Tract End'])"
   ]
  },
  {
   "cell_type": "code",
   "execution_count": 17,
   "metadata": {
    "colab": {
     "base_uri": "https://localhost:8080/",
     "height": 402
    },
    "id": "U-msOya_o3D8",
    "outputId": "8961d69c-4842-4802-e54c-236b8ea92bc6"
   },
   "outputs": [
    {
     "data": {
      "text/html": [
       "<div>\n",
       "<style scoped>\n",
       "    .dataframe tbody tr th:only-of-type {\n",
       "        vertical-align: middle;\n",
       "    }\n",
       "\n",
       "    .dataframe tbody tr th {\n",
       "        vertical-align: top;\n",
       "    }\n",
       "\n",
       "    .dataframe thead th {\n",
       "        text-align: right;\n",
       "    }\n",
       "</style>\n",
       "<table border=\"1\" class=\"dataframe\">\n",
       "  <thead>\n",
       "    <tr style=\"text-align: right;\">\n",
       "      <th></th>\n",
       "      <th>Start Time</th>\n",
       "      <th>End Time</th>\n",
       "      <th>Month</th>\n",
       "      <th>Hour</th>\n",
       "      <th>Day of Week</th>\n",
       "      <th>Council District (Start)</th>\n",
       "      <th>Council District (End)</th>\n",
       "    </tr>\n",
       "  </thead>\n",
       "  <tbody>\n",
       "    <tr>\n",
       "      <th>0</th>\n",
       "      <td>04/18/2020 05:15:00 AM</td>\n",
       "      <td>04/18/2020 05:45:00 AM</td>\n",
       "      <td>4</td>\n",
       "      <td>5</td>\n",
       "      <td>5</td>\n",
       "      <td>9</td>\n",
       "      <td>4</td>\n",
       "    </tr>\n",
       "    <tr>\n",
       "      <th>1</th>\n",
       "      <td>04/18/2020 05:30:00 AM</td>\n",
       "      <td>04/18/2020 05:45:00 AM</td>\n",
       "      <td>4</td>\n",
       "      <td>5</td>\n",
       "      <td>5</td>\n",
       "      <td>3</td>\n",
       "      <td>3</td>\n",
       "    </tr>\n",
       "    <tr>\n",
       "      <th>2</th>\n",
       "      <td>04/18/2020 05:15:00 AM</td>\n",
       "      <td>04/18/2020 05:30:00 AM</td>\n",
       "      <td>4</td>\n",
       "      <td>5</td>\n",
       "      <td>5</td>\n",
       "      <td>9</td>\n",
       "      <td>1</td>\n",
       "    </tr>\n",
       "    <tr>\n",
       "      <th>3</th>\n",
       "      <td>04/18/2020 05:15:00 AM</td>\n",
       "      <td>04/18/2020 05:15:00 AM</td>\n",
       "      <td>4</td>\n",
       "      <td>5</td>\n",
       "      <td>5</td>\n",
       "      <td>5</td>\n",
       "      <td>5</td>\n",
       "    </tr>\n",
       "    <tr>\n",
       "      <th>4</th>\n",
       "      <td>04/18/2020 05:00:00 AM</td>\n",
       "      <td>04/18/2020 05:15:00 AM</td>\n",
       "      <td>4</td>\n",
       "      <td>5</td>\n",
       "      <td>5</td>\n",
       "      <td>9</td>\n",
       "      <td>9</td>\n",
       "    </tr>\n",
       "    <tr>\n",
       "      <th>...</th>\n",
       "      <td>...</td>\n",
       "      <td>...</td>\n",
       "      <td>...</td>\n",
       "      <td>...</td>\n",
       "      <td>...</td>\n",
       "      <td>...</td>\n",
       "      <td>...</td>\n",
       "    </tr>\n",
       "    <tr>\n",
       "      <th>10102592</th>\n",
       "      <td>12/09/2020 12:45:00 AM</td>\n",
       "      <td>12/09/2020 01:00:00 AM</td>\n",
       "      <td>12</td>\n",
       "      <td>1</td>\n",
       "      <td>2</td>\n",
       "      <td>9</td>\n",
       "      <td>9</td>\n",
       "    </tr>\n",
       "    <tr>\n",
       "      <th>10102593</th>\n",
       "      <td>12/09/2020 01:00:00 AM</td>\n",
       "      <td>12/09/2020 01:00:00 AM</td>\n",
       "      <td>12</td>\n",
       "      <td>1</td>\n",
       "      <td>2</td>\n",
       "      <td>9</td>\n",
       "      <td>9</td>\n",
       "    </tr>\n",
       "    <tr>\n",
       "      <th>10102594</th>\n",
       "      <td>12/09/2020 01:00:00 AM</td>\n",
       "      <td>12/09/2020 01:00:00 AM</td>\n",
       "      <td>12</td>\n",
       "      <td>1</td>\n",
       "      <td>2</td>\n",
       "      <td>9</td>\n",
       "      <td>9</td>\n",
       "    </tr>\n",
       "    <tr>\n",
       "      <th>10102595</th>\n",
       "      <td>12/09/2020 01:00:00 AM</td>\n",
       "      <td>12/09/2020 01:00:00 AM</td>\n",
       "      <td>12</td>\n",
       "      <td>1</td>\n",
       "      <td>2</td>\n",
       "      <td>9</td>\n",
       "      <td>9</td>\n",
       "    </tr>\n",
       "    <tr>\n",
       "      <th>10102596</th>\n",
       "      <td>12/09/2020 01:00:00 AM</td>\n",
       "      <td>12/09/2020 01:00:00 AM</td>\n",
       "      <td>12</td>\n",
       "      <td>1</td>\n",
       "      <td>2</td>\n",
       "      <td>9</td>\n",
       "      <td>9</td>\n",
       "    </tr>\n",
       "  </tbody>\n",
       "</table>\n",
       "<p>9494602 rows × 7 columns</p>\n",
       "</div>"
      ],
      "text/plain": [
       "                      Start Time  ... Council District (End)\n",
       "0         04/18/2020 05:15:00 AM  ...                      4\n",
       "1         04/18/2020 05:30:00 AM  ...                      3\n",
       "2         04/18/2020 05:15:00 AM  ...                      1\n",
       "3         04/18/2020 05:15:00 AM  ...                      5\n",
       "4         04/18/2020 05:00:00 AM  ...                      9\n",
       "...                          ...  ...                    ...\n",
       "10102592  12/09/2020 12:45:00 AM  ...                      9\n",
       "10102593  12/09/2020 01:00:00 AM  ...                      9\n",
       "10102594  12/09/2020 01:00:00 AM  ...                      9\n",
       "10102595  12/09/2020 01:00:00 AM  ...                      9\n",
       "10102596  12/09/2020 01:00:00 AM  ...                      9\n",
       "\n",
       "[9494602 rows x 7 columns]"
      ]
     },
     "execution_count": 17,
     "metadata": {
      "tags": []
     },
     "output_type": "execute_result"
    }
   ],
   "source": [
    "df"
   ]
  },
  {
   "cell_type": "code",
   "execution_count": 18,
   "metadata": {
    "colab": {
     "base_uri": "https://localhost:8080/"
    },
    "id": "O1M3XaYLs0kD",
    "outputId": "3883f643-2e20-4a57-e8da-6d6188b3fd24"
   },
   "outputs": [
    {
     "data": {
      "text/plain": [
       "24"
      ]
     },
     "execution_count": 18,
     "metadata": {
      "tags": []
     },
     "output_type": "execute_result"
    }
   ],
   "source": [
    "len(df['Hour'].unique())"
   ]
  },
  {
   "cell_type": "code",
   "execution_count": 19,
   "metadata": {
    "id": "YMBV9rp3tuXt"
   },
   "outputs": [],
   "source": [
    "df=df.drop(columns=['End Time','Day of Week','Council District (End)'])"
   ]
  },
  {
   "cell_type": "code",
   "execution_count": 20,
   "metadata": {
    "colab": {
     "base_uri": "https://localhost:8080/"
    },
    "id": "E6s_wojltBxD",
    "outputId": "58b618f7-e417-49b6-bd96-7c2f714d0609"
   },
   "outputs": [
    {
     "name": "stdout",
     "output_type": "stream",
     "text": [
      "<class 'pandas.core.frame.DataFrame'>\n",
      "Int64Index: 9494602 entries, 0 to 10102596\n",
      "Data columns (total 4 columns):\n",
      " #   Column                    Dtype \n",
      "---  ------                    ----- \n",
      " 0   Start Time                object\n",
      " 1   Month                     int64 \n",
      " 2   Hour                      int64 \n",
      " 3   Council District (Start)  object\n",
      "dtypes: int64(2), object(2)\n",
      "memory usage: 362.2+ MB\n"
     ]
    }
   ],
   "source": [
    "df.info()"
   ]
  },
  {
   "cell_type": "code",
   "execution_count": 21,
   "metadata": {
    "id": "96uEYpZUujHv"
   },
   "outputs": [],
   "source": [
    "df['Council District (Start)']=df['Council District (Start)'].astype(int)"
   ]
  },
  {
   "cell_type": "code",
   "execution_count": 22,
   "metadata": {
    "colab": {
     "base_uri": "https://localhost:8080/"
    },
    "id": "AyEtWsWavVEk",
    "outputId": "2c4fda0b-18c7-488a-e39e-3e80a521fd9a"
   },
   "outputs": [
    {
     "name": "stdout",
     "output_type": "stream",
     "text": [
      "<class 'pandas.core.frame.DataFrame'>\n",
      "Int64Index: 9494602 entries, 0 to 10102596\n",
      "Data columns (total 4 columns):\n",
      " #   Column                    Dtype \n",
      "---  ------                    ----- \n",
      " 0   Start Time                object\n",
      " 1   Month                     int64 \n",
      " 2   Hour                      int64 \n",
      " 3   Council District (Start)  int64 \n",
      "dtypes: int64(3), object(1)\n",
      "memory usage: 362.2+ MB\n"
     ]
    }
   ],
   "source": [
    "df.info()"
   ]
  },
  {
   "cell_type": "code",
   "execution_count": 23,
   "metadata": {
    "colab": {
     "base_uri": "https://localhost:8080/",
     "height": 402
    },
    "id": "xIiEj1rpv7lu",
    "outputId": "8fcba914-3722-4173-8166-dd8e73d52894"
   },
   "outputs": [
    {
     "data": {
      "text/html": [
       "<div>\n",
       "<style scoped>\n",
       "    .dataframe tbody tr th:only-of-type {\n",
       "        vertical-align: middle;\n",
       "    }\n",
       "\n",
       "    .dataframe tbody tr th {\n",
       "        vertical-align: top;\n",
       "    }\n",
       "\n",
       "    .dataframe thead th {\n",
       "        text-align: right;\n",
       "    }\n",
       "</style>\n",
       "<table border=\"1\" class=\"dataframe\">\n",
       "  <thead>\n",
       "    <tr style=\"text-align: right;\">\n",
       "      <th></th>\n",
       "      <th>Start Time</th>\n",
       "      <th>Month</th>\n",
       "      <th>Hour</th>\n",
       "      <th>Council District (Start)</th>\n",
       "    </tr>\n",
       "  </thead>\n",
       "  <tbody>\n",
       "    <tr>\n",
       "      <th>0</th>\n",
       "      <td>04/18/2020 05:15:00 AM</td>\n",
       "      <td>4</td>\n",
       "      <td>5</td>\n",
       "      <td>9</td>\n",
       "    </tr>\n",
       "    <tr>\n",
       "      <th>1</th>\n",
       "      <td>04/18/2020 05:30:00 AM</td>\n",
       "      <td>4</td>\n",
       "      <td>5</td>\n",
       "      <td>3</td>\n",
       "    </tr>\n",
       "    <tr>\n",
       "      <th>2</th>\n",
       "      <td>04/18/2020 05:15:00 AM</td>\n",
       "      <td>4</td>\n",
       "      <td>5</td>\n",
       "      <td>9</td>\n",
       "    </tr>\n",
       "    <tr>\n",
       "      <th>3</th>\n",
       "      <td>04/18/2020 05:15:00 AM</td>\n",
       "      <td>4</td>\n",
       "      <td>5</td>\n",
       "      <td>5</td>\n",
       "    </tr>\n",
       "    <tr>\n",
       "      <th>4</th>\n",
       "      <td>04/18/2020 05:00:00 AM</td>\n",
       "      <td>4</td>\n",
       "      <td>5</td>\n",
       "      <td>9</td>\n",
       "    </tr>\n",
       "    <tr>\n",
       "      <th>...</th>\n",
       "      <td>...</td>\n",
       "      <td>...</td>\n",
       "      <td>...</td>\n",
       "      <td>...</td>\n",
       "    </tr>\n",
       "    <tr>\n",
       "      <th>10102592</th>\n",
       "      <td>12/09/2020 12:45:00 AM</td>\n",
       "      <td>12</td>\n",
       "      <td>1</td>\n",
       "      <td>9</td>\n",
       "    </tr>\n",
       "    <tr>\n",
       "      <th>10102593</th>\n",
       "      <td>12/09/2020 01:00:00 AM</td>\n",
       "      <td>12</td>\n",
       "      <td>1</td>\n",
       "      <td>9</td>\n",
       "    </tr>\n",
       "    <tr>\n",
       "      <th>10102594</th>\n",
       "      <td>12/09/2020 01:00:00 AM</td>\n",
       "      <td>12</td>\n",
       "      <td>1</td>\n",
       "      <td>9</td>\n",
       "    </tr>\n",
       "    <tr>\n",
       "      <th>10102595</th>\n",
       "      <td>12/09/2020 01:00:00 AM</td>\n",
       "      <td>12</td>\n",
       "      <td>1</td>\n",
       "      <td>9</td>\n",
       "    </tr>\n",
       "    <tr>\n",
       "      <th>10102596</th>\n",
       "      <td>12/09/2020 01:00:00 AM</td>\n",
       "      <td>12</td>\n",
       "      <td>1</td>\n",
       "      <td>9</td>\n",
       "    </tr>\n",
       "  </tbody>\n",
       "</table>\n",
       "<p>9494602 rows × 4 columns</p>\n",
       "</div>"
      ],
      "text/plain": [
       "                      Start Time  Month  Hour  Council District (Start)\n",
       "0         04/18/2020 05:15:00 AM      4     5                         9\n",
       "1         04/18/2020 05:30:00 AM      4     5                         3\n",
       "2         04/18/2020 05:15:00 AM      4     5                         9\n",
       "3         04/18/2020 05:15:00 AM      4     5                         5\n",
       "4         04/18/2020 05:00:00 AM      4     5                         9\n",
       "...                          ...    ...   ...                       ...\n",
       "10102592  12/09/2020 12:45:00 AM     12     1                         9\n",
       "10102593  12/09/2020 01:00:00 AM     12     1                         9\n",
       "10102594  12/09/2020 01:00:00 AM     12     1                         9\n",
       "10102595  12/09/2020 01:00:00 AM     12     1                         9\n",
       "10102596  12/09/2020 01:00:00 AM     12     1                         9\n",
       "\n",
       "[9494602 rows x 4 columns]"
      ]
     },
     "execution_count": 23,
     "metadata": {
      "tags": []
     },
     "output_type": "execute_result"
    }
   ],
   "source": [
    "df"
   ]
  },
  {
   "cell_type": "code",
   "execution_count": 24,
   "metadata": {
    "id": "dgZ9QfGNxaRd"
   },
   "outputs": [],
   "source": [
    "df['Start Time']=pd.to_datetime(df['Start Time'], format='%m/%d/%Y %I:%M:%S %p')"
   ]
  },
  {
   "cell_type": "code",
   "execution_count": 25,
   "metadata": {
    "colab": {
     "base_uri": "https://localhost:8080/"
    },
    "id": "v3x3ZPV5y5Ka",
    "outputId": "77a1a6e4-89c8-4bab-b74c-cd0dd885b08f"
   },
   "outputs": [
    {
     "name": "stdout",
     "output_type": "stream",
     "text": [
      "<class 'pandas.core.frame.DataFrame'>\n",
      "Int64Index: 9494602 entries, 0 to 10102596\n",
      "Data columns (total 4 columns):\n",
      " #   Column                    Dtype         \n",
      "---  ------                    -----         \n",
      " 0   Start Time                datetime64[ns]\n",
      " 1   Month                     int64         \n",
      " 2   Hour                      int64         \n",
      " 3   Council District (Start)  int64         \n",
      "dtypes: datetime64[ns](1), int64(3)\n",
      "memory usage: 362.2 MB\n"
     ]
    }
   ],
   "source": [
    "df.info()"
   ]
  },
  {
   "cell_type": "code",
   "execution_count": 26,
   "metadata": {
    "id": "sQ6doB3_zbWF"
   },
   "outputs": [],
   "source": [
    "df['day']=df['Start Time'].dt.day\n",
    "df['month']=df['Start Time'].dt.month\n",
    "df['hour']=df['Start Time'].dt.hour\n",
    "df['year']=df['Start Time'].dt.year\n",
    "df['day_of_week']=df['Start Time'].dt.day_name()\n",
    "df=df.drop(columns=['Month','Hour'])"
   ]
  },
  {
   "cell_type": "code",
   "execution_count": 27,
   "metadata": {
    "colab": {
     "base_uri": "https://localhost:8080/",
     "height": 402
    },
    "id": "br-bMXv00tzE",
    "outputId": "8371f2e0-e5dd-4f52-e6f9-1dcf77ee9b42"
   },
   "outputs": [
    {
     "data": {
      "text/html": [
       "<div>\n",
       "<style scoped>\n",
       "    .dataframe tbody tr th:only-of-type {\n",
       "        vertical-align: middle;\n",
       "    }\n",
       "\n",
       "    .dataframe tbody tr th {\n",
       "        vertical-align: top;\n",
       "    }\n",
       "\n",
       "    .dataframe thead th {\n",
       "        text-align: right;\n",
       "    }\n",
       "</style>\n",
       "<table border=\"1\" class=\"dataframe\">\n",
       "  <thead>\n",
       "    <tr style=\"text-align: right;\">\n",
       "      <th></th>\n",
       "      <th>Start Time</th>\n",
       "      <th>Council District (Start)</th>\n",
       "      <th>day</th>\n",
       "      <th>month</th>\n",
       "      <th>hour</th>\n",
       "      <th>year</th>\n",
       "      <th>day_of_week</th>\n",
       "    </tr>\n",
       "  </thead>\n",
       "  <tbody>\n",
       "    <tr>\n",
       "      <th>0</th>\n",
       "      <td>2020-04-18 05:15:00</td>\n",
       "      <td>9</td>\n",
       "      <td>18</td>\n",
       "      <td>4</td>\n",
       "      <td>5</td>\n",
       "      <td>2020</td>\n",
       "      <td>Saturday</td>\n",
       "    </tr>\n",
       "    <tr>\n",
       "      <th>1</th>\n",
       "      <td>2020-04-18 05:30:00</td>\n",
       "      <td>3</td>\n",
       "      <td>18</td>\n",
       "      <td>4</td>\n",
       "      <td>5</td>\n",
       "      <td>2020</td>\n",
       "      <td>Saturday</td>\n",
       "    </tr>\n",
       "    <tr>\n",
       "      <th>2</th>\n",
       "      <td>2020-04-18 05:15:00</td>\n",
       "      <td>9</td>\n",
       "      <td>18</td>\n",
       "      <td>4</td>\n",
       "      <td>5</td>\n",
       "      <td>2020</td>\n",
       "      <td>Saturday</td>\n",
       "    </tr>\n",
       "    <tr>\n",
       "      <th>3</th>\n",
       "      <td>2020-04-18 05:15:00</td>\n",
       "      <td>5</td>\n",
       "      <td>18</td>\n",
       "      <td>4</td>\n",
       "      <td>5</td>\n",
       "      <td>2020</td>\n",
       "      <td>Saturday</td>\n",
       "    </tr>\n",
       "    <tr>\n",
       "      <th>4</th>\n",
       "      <td>2020-04-18 05:00:00</td>\n",
       "      <td>9</td>\n",
       "      <td>18</td>\n",
       "      <td>4</td>\n",
       "      <td>5</td>\n",
       "      <td>2020</td>\n",
       "      <td>Saturday</td>\n",
       "    </tr>\n",
       "    <tr>\n",
       "      <th>...</th>\n",
       "      <td>...</td>\n",
       "      <td>...</td>\n",
       "      <td>...</td>\n",
       "      <td>...</td>\n",
       "      <td>...</td>\n",
       "      <td>...</td>\n",
       "      <td>...</td>\n",
       "    </tr>\n",
       "    <tr>\n",
       "      <th>10102592</th>\n",
       "      <td>2020-12-09 00:45:00</td>\n",
       "      <td>9</td>\n",
       "      <td>9</td>\n",
       "      <td>12</td>\n",
       "      <td>0</td>\n",
       "      <td>2020</td>\n",
       "      <td>Wednesday</td>\n",
       "    </tr>\n",
       "    <tr>\n",
       "      <th>10102593</th>\n",
       "      <td>2020-12-09 01:00:00</td>\n",
       "      <td>9</td>\n",
       "      <td>9</td>\n",
       "      <td>12</td>\n",
       "      <td>1</td>\n",
       "      <td>2020</td>\n",
       "      <td>Wednesday</td>\n",
       "    </tr>\n",
       "    <tr>\n",
       "      <th>10102594</th>\n",
       "      <td>2020-12-09 01:00:00</td>\n",
       "      <td>9</td>\n",
       "      <td>9</td>\n",
       "      <td>12</td>\n",
       "      <td>1</td>\n",
       "      <td>2020</td>\n",
       "      <td>Wednesday</td>\n",
       "    </tr>\n",
       "    <tr>\n",
       "      <th>10102595</th>\n",
       "      <td>2020-12-09 01:00:00</td>\n",
       "      <td>9</td>\n",
       "      <td>9</td>\n",
       "      <td>12</td>\n",
       "      <td>1</td>\n",
       "      <td>2020</td>\n",
       "      <td>Wednesday</td>\n",
       "    </tr>\n",
       "    <tr>\n",
       "      <th>10102596</th>\n",
       "      <td>2020-12-09 01:00:00</td>\n",
       "      <td>9</td>\n",
       "      <td>9</td>\n",
       "      <td>12</td>\n",
       "      <td>1</td>\n",
       "      <td>2020</td>\n",
       "      <td>Wednesday</td>\n",
       "    </tr>\n",
       "  </tbody>\n",
       "</table>\n",
       "<p>9494602 rows × 7 columns</p>\n",
       "</div>"
      ],
      "text/plain": [
       "                  Start Time  Council District (Start)  ...  year  day_of_week\n",
       "0        2020-04-18 05:15:00                         9  ...  2020     Saturday\n",
       "1        2020-04-18 05:30:00                         3  ...  2020     Saturday\n",
       "2        2020-04-18 05:15:00                         9  ...  2020     Saturday\n",
       "3        2020-04-18 05:15:00                         5  ...  2020     Saturday\n",
       "4        2020-04-18 05:00:00                         9  ...  2020     Saturday\n",
       "...                      ...                       ...  ...   ...          ...\n",
       "10102592 2020-12-09 00:45:00                         9  ...  2020    Wednesday\n",
       "10102593 2020-12-09 01:00:00                         9  ...  2020    Wednesday\n",
       "10102594 2020-12-09 01:00:00                         9  ...  2020    Wednesday\n",
       "10102595 2020-12-09 01:00:00                         9  ...  2020    Wednesday\n",
       "10102596 2020-12-09 01:00:00                         9  ...  2020    Wednesday\n",
       "\n",
       "[9494602 rows x 7 columns]"
      ]
     },
     "execution_count": 27,
     "metadata": {
      "tags": []
     },
     "output_type": "execute_result"
    }
   ],
   "source": [
    "df"
   ]
  },
  {
   "cell_type": "code",
   "execution_count": 28,
   "metadata": {
    "colab": {
     "base_uri": "https://localhost:8080/",
     "height": 402
    },
    "id": "4IB_TfNf9RPK",
    "outputId": "d5c5492f-e724-464f-c840-0f7d1a99fa03"
   },
   "outputs": [
    {
     "data": {
      "text/html": [
       "<div>\n",
       "<style scoped>\n",
       "    .dataframe tbody tr th:only-of-type {\n",
       "        vertical-align: middle;\n",
       "    }\n",
       "\n",
       "    .dataframe tbody tr th {\n",
       "        vertical-align: top;\n",
       "    }\n",
       "\n",
       "    .dataframe thead th {\n",
       "        text-align: right;\n",
       "    }\n",
       "</style>\n",
       "<table border=\"1\" class=\"dataframe\">\n",
       "  <thead>\n",
       "    <tr style=\"text-align: right;\">\n",
       "      <th></th>\n",
       "      <th>Council District (Start)</th>\n",
       "      <th>hour</th>\n",
       "      <th>month</th>\n",
       "      <th>year</th>\n",
       "      <th>day_of_week</th>\n",
       "      <th>average demand</th>\n",
       "    </tr>\n",
       "  </thead>\n",
       "  <tbody>\n",
       "    <tr>\n",
       "      <th>28201</th>\n",
       "      <td>9</td>\n",
       "      <td>0</td>\n",
       "      <td>1</td>\n",
       "      <td>2019</td>\n",
       "      <td>Friday</td>\n",
       "      <td>118</td>\n",
       "    </tr>\n",
       "    <tr>\n",
       "      <th>28202</th>\n",
       "      <td>9</td>\n",
       "      <td>0</td>\n",
       "      <td>1</td>\n",
       "      <td>2019</td>\n",
       "      <td>Monday</td>\n",
       "      <td>106</td>\n",
       "    </tr>\n",
       "    <tr>\n",
       "      <th>28203</th>\n",
       "      <td>9</td>\n",
       "      <td>0</td>\n",
       "      <td>1</td>\n",
       "      <td>2019</td>\n",
       "      <td>Saturday</td>\n",
       "      <td>236</td>\n",
       "    </tr>\n",
       "    <tr>\n",
       "      <th>28204</th>\n",
       "      <td>9</td>\n",
       "      <td>0</td>\n",
       "      <td>1</td>\n",
       "      <td>2019</td>\n",
       "      <td>Sunday</td>\n",
       "      <td>209</td>\n",
       "    </tr>\n",
       "    <tr>\n",
       "      <th>28205</th>\n",
       "      <td>9</td>\n",
       "      <td>0</td>\n",
       "      <td>1</td>\n",
       "      <td>2019</td>\n",
       "      <td>Thursday</td>\n",
       "      <td>95</td>\n",
       "    </tr>\n",
       "    <tr>\n",
       "      <th>...</th>\n",
       "      <td>...</td>\n",
       "      <td>...</td>\n",
       "      <td>...</td>\n",
       "      <td>...</td>\n",
       "      <td>...</td>\n",
       "      <td>...</td>\n",
       "    </tr>\n",
       "    <tr>\n",
       "      <th>33678</th>\n",
       "      <td>9</td>\n",
       "      <td>23</td>\n",
       "      <td>12</td>\n",
       "      <td>2020</td>\n",
       "      <td>Saturday</td>\n",
       "      <td>360</td>\n",
       "    </tr>\n",
       "    <tr>\n",
       "      <th>33679</th>\n",
       "      <td>9</td>\n",
       "      <td>23</td>\n",
       "      <td>12</td>\n",
       "      <td>2020</td>\n",
       "      <td>Sunday</td>\n",
       "      <td>234</td>\n",
       "    </tr>\n",
       "    <tr>\n",
       "      <th>33680</th>\n",
       "      <td>9</td>\n",
       "      <td>23</td>\n",
       "      <td>12</td>\n",
       "      <td>2020</td>\n",
       "      <td>Thursday</td>\n",
       "      <td>151</td>\n",
       "    </tr>\n",
       "    <tr>\n",
       "      <th>33681</th>\n",
       "      <td>9</td>\n",
       "      <td>23</td>\n",
       "      <td>12</td>\n",
       "      <td>2020</td>\n",
       "      <td>Tuesday</td>\n",
       "      <td>168</td>\n",
       "    </tr>\n",
       "    <tr>\n",
       "      <th>33682</th>\n",
       "      <td>9</td>\n",
       "      <td>23</td>\n",
       "      <td>12</td>\n",
       "      <td>2020</td>\n",
       "      <td>Wednesday</td>\n",
       "      <td>155</td>\n",
       "    </tr>\n",
       "  </tbody>\n",
       "</table>\n",
       "<p>5482 rows × 6 columns</p>\n",
       "</div>"
      ],
      "text/plain": [
       "       Council District (Start)  hour  month  year day_of_week  average demand\n",
       "28201                         9     0      1  2019      Friday             118\n",
       "28202                         9     0      1  2019      Monday             106\n",
       "28203                         9     0      1  2019    Saturday             236\n",
       "28204                         9     0      1  2019      Sunday             209\n",
       "28205                         9     0      1  2019    Thursday              95\n",
       "...                         ...   ...    ...   ...         ...             ...\n",
       "33678                         9    23     12  2020    Saturday             360\n",
       "33679                         9    23     12  2020      Sunday             234\n",
       "33680                         9    23     12  2020    Thursday             151\n",
       "33681                         9    23     12  2020     Tuesday             168\n",
       "33682                         9    23     12  2020   Wednesday             155\n",
       "\n",
       "[5482 rows x 6 columns]"
      ]
     },
     "execution_count": 28,
     "metadata": {
      "tags": []
     },
     "output_type": "execute_result"
    }
   ],
   "source": [
    "g_df2=df.groupby(['Council District (Start)', 'hour', 'day', 'month', 'year', 'day_of_week', ]).count().reset_index().rename(columns={'Start Time':'count'}).groupby(['Council District (Start)','hour','month','year','day_of_week']).mean().reset_index().rename(columns={'count':'average demand'}).drop(columns=['day'])\n",
    "g_df2['average demand']=g_df2['average demand'].astype(int)\n",
    "g_df2[g_df2['Council District (Start)']==9]"
   ]
  },
  {
   "cell_type": "code",
   "execution_count": 29,
   "metadata": {
    "colab": {
     "base_uri": "https://localhost:8080/",
     "height": 402
    },
    "id": "ZcCTjgXuJp13",
    "outputId": "4c48106e-0ee6-4e5b-baef-88d29e6ddd4b"
   },
   "outputs": [
    {
     "data": {
      "text/html": [
       "<div>\n",
       "<style scoped>\n",
       "    .dataframe tbody tr th:only-of-type {\n",
       "        vertical-align: middle;\n",
       "    }\n",
       "\n",
       "    .dataframe tbody tr th {\n",
       "        vertical-align: top;\n",
       "    }\n",
       "\n",
       "    .dataframe thead th {\n",
       "        text-align: right;\n",
       "    }\n",
       "</style>\n",
       "<table border=\"1\" class=\"dataframe\">\n",
       "  <thead>\n",
       "    <tr style=\"text-align: right;\">\n",
       "      <th></th>\n",
       "      <th>Council District (Start)</th>\n",
       "      <th>hour</th>\n",
       "      <th>month</th>\n",
       "      <th>year</th>\n",
       "      <th>day_of_week</th>\n",
       "      <th>average demand</th>\n",
       "    </tr>\n",
       "  </thead>\n",
       "  <tbody>\n",
       "    <tr>\n",
       "      <th>0</th>\n",
       "      <td>1</td>\n",
       "      <td>0</td>\n",
       "      <td>1</td>\n",
       "      <td>2019</td>\n",
       "      <td>Friday</td>\n",
       "      <td>4</td>\n",
       "    </tr>\n",
       "    <tr>\n",
       "      <th>1</th>\n",
       "      <td>1</td>\n",
       "      <td>0</td>\n",
       "      <td>1</td>\n",
       "      <td>2019</td>\n",
       "      <td>Monday</td>\n",
       "      <td>2</td>\n",
       "    </tr>\n",
       "    <tr>\n",
       "      <th>2</th>\n",
       "      <td>1</td>\n",
       "      <td>0</td>\n",
       "      <td>1</td>\n",
       "      <td>2019</td>\n",
       "      <td>Saturday</td>\n",
       "      <td>7</td>\n",
       "    </tr>\n",
       "    <tr>\n",
       "      <th>3</th>\n",
       "      <td>1</td>\n",
       "      <td>0</td>\n",
       "      <td>1</td>\n",
       "      <td>2019</td>\n",
       "      <td>Sunday</td>\n",
       "      <td>6</td>\n",
       "    </tr>\n",
       "    <tr>\n",
       "      <th>4</th>\n",
       "      <td>1</td>\n",
       "      <td>0</td>\n",
       "      <td>1</td>\n",
       "      <td>2019</td>\n",
       "      <td>Thursday</td>\n",
       "      <td>3</td>\n",
       "    </tr>\n",
       "    <tr>\n",
       "      <th>...</th>\n",
       "      <td>...</td>\n",
       "      <td>...</td>\n",
       "      <td>...</td>\n",
       "      <td>...</td>\n",
       "      <td>...</td>\n",
       "      <td>...</td>\n",
       "    </tr>\n",
       "    <tr>\n",
       "      <th>37336</th>\n",
       "      <td>10</td>\n",
       "      <td>23</td>\n",
       "      <td>12</td>\n",
       "      <td>2020</td>\n",
       "      <td>Saturday</td>\n",
       "      <td>3</td>\n",
       "    </tr>\n",
       "    <tr>\n",
       "      <th>37337</th>\n",
       "      <td>10</td>\n",
       "      <td>23</td>\n",
       "      <td>12</td>\n",
       "      <td>2020</td>\n",
       "      <td>Sunday</td>\n",
       "      <td>1</td>\n",
       "    </tr>\n",
       "    <tr>\n",
       "      <th>37338</th>\n",
       "      <td>10</td>\n",
       "      <td>23</td>\n",
       "      <td>12</td>\n",
       "      <td>2020</td>\n",
       "      <td>Thursday</td>\n",
       "      <td>1</td>\n",
       "    </tr>\n",
       "    <tr>\n",
       "      <th>37339</th>\n",
       "      <td>10</td>\n",
       "      <td>23</td>\n",
       "      <td>12</td>\n",
       "      <td>2020</td>\n",
       "      <td>Tuesday</td>\n",
       "      <td>2</td>\n",
       "    </tr>\n",
       "    <tr>\n",
       "      <th>37340</th>\n",
       "      <td>10</td>\n",
       "      <td>23</td>\n",
       "      <td>12</td>\n",
       "      <td>2020</td>\n",
       "      <td>Wednesday</td>\n",
       "      <td>3</td>\n",
       "    </tr>\n",
       "  </tbody>\n",
       "</table>\n",
       "<p>37341 rows × 6 columns</p>\n",
       "</div>"
      ],
      "text/plain": [
       "       Council District (Start)  hour  month  year day_of_week  average demand\n",
       "0                             1     0      1  2019      Friday               4\n",
       "1                             1     0      1  2019      Monday               2\n",
       "2                             1     0      1  2019    Saturday               7\n",
       "3                             1     0      1  2019      Sunday               6\n",
       "4                             1     0      1  2019    Thursday               3\n",
       "...                         ...   ...    ...   ...         ...             ...\n",
       "37336                        10    23     12  2020    Saturday               3\n",
       "37337                        10    23     12  2020      Sunday               1\n",
       "37338                        10    23     12  2020    Thursday               1\n",
       "37339                        10    23     12  2020     Tuesday               2\n",
       "37340                        10    23     12  2020   Wednesday               3\n",
       "\n",
       "[37341 rows x 6 columns]"
      ]
     },
     "execution_count": 29,
     "metadata": {
      "tags": []
     },
     "output_type": "execute_result"
    }
   ],
   "source": [
    "g_df2"
   ]
  },
  {
   "cell_type": "code",
   "execution_count": 30,
   "metadata": {
    "colab": {
     "base_uri": "https://localhost:8080/",
     "height": 402
    },
    "id": "WsN0XfN8DxSV",
    "outputId": "dcff72bf-8bc1-40d9-e1c7-ea8a75cd7b6b"
   },
   "outputs": [
    {
     "data": {
      "text/html": [
       "<div>\n",
       "<style scoped>\n",
       "    .dataframe tbody tr th:only-of-type {\n",
       "        vertical-align: middle;\n",
       "    }\n",
       "\n",
       "    .dataframe tbody tr th {\n",
       "        vertical-align: top;\n",
       "    }\n",
       "\n",
       "    .dataframe thead th {\n",
       "        text-align: right;\n",
       "    }\n",
       "</style>\n",
       "<table border=\"1\" class=\"dataframe\">\n",
       "  <thead>\n",
       "    <tr style=\"text-align: right;\">\n",
       "      <th></th>\n",
       "      <th>Council District (Start)</th>\n",
       "      <th>hour</th>\n",
       "      <th>month</th>\n",
       "      <th>year</th>\n",
       "      <th>day_of_week</th>\n",
       "      <th>average demand</th>\n",
       "    </tr>\n",
       "  </thead>\n",
       "  <tbody>\n",
       "    <tr>\n",
       "      <th>28201</th>\n",
       "      <td>9</td>\n",
       "      <td>0</td>\n",
       "      <td>1</td>\n",
       "      <td>2019</td>\n",
       "      <td>Friday</td>\n",
       "      <td>118</td>\n",
       "    </tr>\n",
       "    <tr>\n",
       "      <th>28202</th>\n",
       "      <td>9</td>\n",
       "      <td>0</td>\n",
       "      <td>1</td>\n",
       "      <td>2019</td>\n",
       "      <td>Monday</td>\n",
       "      <td>106</td>\n",
       "    </tr>\n",
       "    <tr>\n",
       "      <th>28203</th>\n",
       "      <td>9</td>\n",
       "      <td>0</td>\n",
       "      <td>1</td>\n",
       "      <td>2019</td>\n",
       "      <td>Saturday</td>\n",
       "      <td>236</td>\n",
       "    </tr>\n",
       "    <tr>\n",
       "      <th>28204</th>\n",
       "      <td>9</td>\n",
       "      <td>0</td>\n",
       "      <td>1</td>\n",
       "      <td>2019</td>\n",
       "      <td>Sunday</td>\n",
       "      <td>209</td>\n",
       "    </tr>\n",
       "    <tr>\n",
       "      <th>28205</th>\n",
       "      <td>9</td>\n",
       "      <td>0</td>\n",
       "      <td>1</td>\n",
       "      <td>2019</td>\n",
       "      <td>Thursday</td>\n",
       "      <td>95</td>\n",
       "    </tr>\n",
       "    <tr>\n",
       "      <th>...</th>\n",
       "      <td>...</td>\n",
       "      <td>...</td>\n",
       "      <td>...</td>\n",
       "      <td>...</td>\n",
       "      <td>...</td>\n",
       "      <td>...</td>\n",
       "    </tr>\n",
       "    <tr>\n",
       "      <th>33678</th>\n",
       "      <td>9</td>\n",
       "      <td>23</td>\n",
       "      <td>12</td>\n",
       "      <td>2020</td>\n",
       "      <td>Saturday</td>\n",
       "      <td>360</td>\n",
       "    </tr>\n",
       "    <tr>\n",
       "      <th>33679</th>\n",
       "      <td>9</td>\n",
       "      <td>23</td>\n",
       "      <td>12</td>\n",
       "      <td>2020</td>\n",
       "      <td>Sunday</td>\n",
       "      <td>234</td>\n",
       "    </tr>\n",
       "    <tr>\n",
       "      <th>33680</th>\n",
       "      <td>9</td>\n",
       "      <td>23</td>\n",
       "      <td>12</td>\n",
       "      <td>2020</td>\n",
       "      <td>Thursday</td>\n",
       "      <td>151</td>\n",
       "    </tr>\n",
       "    <tr>\n",
       "      <th>33681</th>\n",
       "      <td>9</td>\n",
       "      <td>23</td>\n",
       "      <td>12</td>\n",
       "      <td>2020</td>\n",
       "      <td>Tuesday</td>\n",
       "      <td>168</td>\n",
       "    </tr>\n",
       "    <tr>\n",
       "      <th>33682</th>\n",
       "      <td>9</td>\n",
       "      <td>23</td>\n",
       "      <td>12</td>\n",
       "      <td>2020</td>\n",
       "      <td>Wednesday</td>\n",
       "      <td>155</td>\n",
       "    </tr>\n",
       "  </tbody>\n",
       "</table>\n",
       "<p>5482 rows × 6 columns</p>\n",
       "</div>"
      ],
      "text/plain": [
       "       Council District (Start)  hour  month  year day_of_week  average demand\n",
       "28201                         9     0      1  2019      Friday             118\n",
       "28202                         9     0      1  2019      Monday             106\n",
       "28203                         9     0      1  2019    Saturday             236\n",
       "28204                         9     0      1  2019      Sunday             209\n",
       "28205                         9     0      1  2019    Thursday              95\n",
       "...                         ...   ...    ...   ...         ...             ...\n",
       "33678                         9    23     12  2020    Saturday             360\n",
       "33679                         9    23     12  2020      Sunday             234\n",
       "33680                         9    23     12  2020    Thursday             151\n",
       "33681                         9    23     12  2020     Tuesday             168\n",
       "33682                         9    23     12  2020   Wednesday             155\n",
       "\n",
       "[5482 rows x 6 columns]"
      ]
     },
     "execution_count": 30,
     "metadata": {
      "tags": []
     },
     "output_type": "execute_result"
    }
   ],
   "source": [
    "lol=g_df2.groupby(['Council District (Start)','hour','month','year','day_of_week']).mean().reset_index()\n",
    "lol[lol['Council District (Start)']==9]"
   ]
  },
  {
   "cell_type": "code",
   "execution_count": 34,
   "metadata": {
    "colab": {
     "base_uri": "https://localhost:8080/",
     "height": 406
    },
    "id": "zFbE0XTx-a15",
    "outputId": "44a14eb7-5c28-4030-a517-af23d8104c28"
   },
   "outputs": [
    {
     "data": {
      "text/plain": [
       "<matplotlib.axes._subplots.AxesSubplot at 0x7f164ea21c50>"
      ]
     },
     "execution_count": 34,
     "metadata": {
      "tags": []
     },
     "output_type": "execute_result"
    },
    {
     "data": {
      "image/png": "[encoded data removed]",
      "text/plain": [
       "<Figure size 1008x432 with 1 Axes>"
      ]
     },
     "metadata": {
      "needs_background": "light",
      "tags": []
     },
     "output_type": "display_data"
    }
   ],
   "source": [
    "a4_dims = (11.7, 8.27)\n",
    "fig, ax = plt.subplots(figsize=a4_dims)\n",
    "fig.set_size_inches(14, 6)\n",
    "sns.boxplot(x='hour',y='average demand', data=g_df2[g_df2['Council District (Start)']==9])"
   ]
  },
  {
   "cell_type": "code",
   "execution_count": null,
   "metadata": {
    "id": "f9CYzVJ778sm"
   },
   "outputs": [],
   "source": [
    "a4_dims = (11.7, 8.27)\n",
    "fig, ax = plt.subplots(figsize=a4_dims)\n",
    "sns.boxplot(x='day_of_week',y='Start Time', data=g_df2[g_df2['Council District (Start)']==1])"
   ]
  },
  {
   "cell_type": "code",
   "execution_count": null,
   "metadata": {
    "id": "bCHwI-ye-JE7"
   },
   "outputs": [],
   "source": [
    "a4_dims = (11.7, 8.27)\n",
    "fig, ax = plt.subplots(figsize=a4_dims)\n",
    "sns.boxplot(x='day_of_week',y='Start Time', data=g_df2[g_df2['Council District (Start)']==9])"
   ]
  },
  {
   "cell_type": "code",
   "execution_count": null,
   "metadata": {
    "id": "9vkKB4fi5wvA"
   },
   "outputs": [],
   "source": [
    "len(df[(df['Council District (Start)']==9)&(df['day']==1)&(df['month']==1)&(df['year']==2019)&(df['day_of_week']=='Tuesday')])"
   ]
  },
  {
   "cell_type": "code",
   "execution_count": 42,
   "metadata": {
    "id": "5Wea6lTZ61im"
   },
   "outputs": [],
   "source": [
    "eng_data = pd.get_dummies(g_df2, columns=['Council District (Start)', 'hour', 'month','day_of_week'])"
   ]
  },
  {
   "cell_type": "code",
   "execution_count": 44,
   "metadata": {
    "colab": {
     "base_uri": "https://localhost:8080/",
     "height": 455
    },
    "id": "n0_HWVgs5WAU",
    "outputId": "b03f0507-59b4-4a0b-a9ba-18336fe6f66c"
   },
   "outputs": [
    {
     "data": {
      "text/html": [
       "<div>\n",
       "<style scoped>\n",
       "    .dataframe tbody tr th:only-of-type {\n",
       "        vertical-align: middle;\n",
       "    }\n",
       "\n",
       "    .dataframe tbody tr th {\n",
       "        vertical-align: top;\n",
       "    }\n",
       "\n",
       "    .dataframe thead th {\n",
       "        text-align: right;\n",
       "    }\n",
       "</style>\n",
       "<table border=\"1\" class=\"dataframe\">\n",
       "  <thead>\n",
       "    <tr style=\"text-align: right;\">\n",
       "      <th></th>\n",
       "      <th>year</th>\n",
       "      <th>Council District (Start)_1</th>\n",
       "      <th>Council District (Start)_2</th>\n",
       "      <th>Council District (Start)_3</th>\n",
       "      <th>Council District (Start)_4</th>\n",
       "      <th>Council District (Start)_5</th>\n",
       "      <th>Council District (Start)_6</th>\n",
       "      <th>Council District (Start)_7</th>\n",
       "      <th>Council District (Start)_8</th>\n",
       "      <th>Council District (Start)_9</th>\n",
       "      <th>Council District (Start)_10</th>\n",
       "      <th>hour_0</th>\n",
       "      <th>hour_1</th>\n",
       "      <th>hour_2</th>\n",
       "      <th>hour_3</th>\n",
       "      <th>hour_4</th>\n",
       "      <th>hour_5</th>\n",
       "      <th>hour_6</th>\n",
       "      <th>hour_7</th>\n",
       "      <th>hour_8</th>\n",
       "      <th>hour_9</th>\n",
       "      <th>hour_10</th>\n",
       "      <th>hour_11</th>\n",
       "      <th>hour_12</th>\n",
       "      <th>hour_13</th>\n",
       "      <th>hour_14</th>\n",
       "      <th>hour_15</th>\n",
       "      <th>hour_16</th>\n",
       "      <th>hour_17</th>\n",
       "      <th>hour_18</th>\n",
       "      <th>hour_19</th>\n",
       "      <th>hour_20</th>\n",
       "      <th>hour_21</th>\n",
       "      <th>hour_22</th>\n",
       "      <th>hour_23</th>\n",
       "      <th>month_1</th>\n",
       "      <th>month_2</th>\n",
       "      <th>month_3</th>\n",
       "      <th>month_4</th>\n",
       "      <th>month_5</th>\n",
       "      <th>month_6</th>\n",
       "      <th>month_7</th>\n",
       "      <th>month_8</th>\n",
       "      <th>month_9</th>\n",
       "      <th>month_10</th>\n",
       "      <th>month_11</th>\n",
       "      <th>month_12</th>\n",
       "      <th>day_of_week_Friday</th>\n",
       "      <th>day_of_week_Monday</th>\n",
       "      <th>day_of_week_Saturday</th>\n",
       "      <th>day_of_week_Sunday</th>\n",
       "      <th>day_of_week_Thursday</th>\n",
       "      <th>day_of_week_Tuesday</th>\n",
       "      <th>day_of_week_Wednesday</th>\n",
       "    </tr>\n",
       "  </thead>\n",
       "  <tbody>\n",
       "    <tr>\n",
       "      <th>0</th>\n",
       "      <td>2019</td>\n",
       "      <td>1</td>\n",
       "      <td>0</td>\n",
       "      <td>0</td>\n",
       "      <td>0</td>\n",
       "      <td>0</td>\n",
       "      <td>0</td>\n",
       "      <td>0</td>\n",
       "      <td>0</td>\n",
       "      <td>0</td>\n",
       "      <td>0</td>\n",
       "      <td>1</td>\n",
       "      <td>0</td>\n",
       "      <td>0</td>\n",
       "      <td>0</td>\n",
       "      <td>0</td>\n",
       "      <td>0</td>\n",
       "      <td>0</td>\n",
       "      <td>0</td>\n",
       "      <td>0</td>\n",
       "      <td>0</td>\n",
       "      <td>0</td>\n",
       "      <td>0</td>\n",
       "      <td>0</td>\n",
       "      <td>0</td>\n",
       "      <td>0</td>\n",
       "      <td>0</td>\n",
       "      <td>0</td>\n",
       "      <td>0</td>\n",
       "      <td>0</td>\n",
       "      <td>0</td>\n",
       "      <td>0</td>\n",
       "      <td>0</td>\n",
       "      <td>0</td>\n",
       "      <td>0</td>\n",
       "      <td>1</td>\n",
       "      <td>0</td>\n",
       "      <td>0</td>\n",
       "      <td>0</td>\n",
       "      <td>0</td>\n",
       "      <td>0</td>\n",
       "      <td>0</td>\n",
       "      <td>0</td>\n",
       "      <td>0</td>\n",
       "      <td>0</td>\n",
       "      <td>0</td>\n",
       "      <td>0</td>\n",
       "      <td>1</td>\n",
       "      <td>0</td>\n",
       "      <td>0</td>\n",
       "      <td>0</td>\n",
       "      <td>0</td>\n",
       "      <td>0</td>\n",
       "      <td>0</td>\n",
       "    </tr>\n",
       "    <tr>\n",
       "      <th>1</th>\n",
       "      <td>2019</td>\n",
       "      <td>1</td>\n",
       "      <td>0</td>\n",
       "      <td>0</td>\n",
       "      <td>0</td>\n",
       "      <td>0</td>\n",
       "      <td>0</td>\n",
       "      <td>0</td>\n",
       "      <td>0</td>\n",
       "      <td>0</td>\n",
       "      <td>0</td>\n",
       "      <td>1</td>\n",
       "      <td>0</td>\n",
       "      <td>0</td>\n",
       "      <td>0</td>\n",
       "      <td>0</td>\n",
       "      <td>0</td>\n",
       "      <td>0</td>\n",
       "      <td>0</td>\n",
       "      <td>0</td>\n",
       "      <td>0</td>\n",
       "      <td>0</td>\n",
       "      <td>0</td>\n",
       "      <td>0</td>\n",
       "      <td>0</td>\n",
       "      <td>0</td>\n",
       "      <td>0</td>\n",
       "      <td>0</td>\n",
       "      <td>0</td>\n",
       "      <td>0</td>\n",
       "      <td>0</td>\n",
       "      <td>0</td>\n",
       "      <td>0</td>\n",
       "      <td>0</td>\n",
       "      <td>0</td>\n",
       "      <td>1</td>\n",
       "      <td>0</td>\n",
       "      <td>0</td>\n",
       "      <td>0</td>\n",
       "      <td>0</td>\n",
       "      <td>0</td>\n",
       "      <td>0</td>\n",
       "      <td>0</td>\n",
       "      <td>0</td>\n",
       "      <td>0</td>\n",
       "      <td>0</td>\n",
       "      <td>0</td>\n",
       "      <td>0</td>\n",
       "      <td>1</td>\n",
       "      <td>0</td>\n",
       "      <td>0</td>\n",
       "      <td>0</td>\n",
       "      <td>0</td>\n",
       "      <td>0</td>\n",
       "    </tr>\n",
       "    <tr>\n",
       "      <th>2</th>\n",
       "      <td>2019</td>\n",
       "      <td>1</td>\n",
       "      <td>0</td>\n",
       "      <td>0</td>\n",
       "      <td>0</td>\n",
       "      <td>0</td>\n",
       "      <td>0</td>\n",
       "      <td>0</td>\n",
       "      <td>0</td>\n",
       "      <td>0</td>\n",
       "      <td>0</td>\n",
       "      <td>1</td>\n",
       "      <td>0</td>\n",
       "      <td>0</td>\n",
       "      <td>0</td>\n",
       "      <td>0</td>\n",
       "      <td>0</td>\n",
       "      <td>0</td>\n",
       "      <td>0</td>\n",
       "      <td>0</td>\n",
       "      <td>0</td>\n",
       "      <td>0</td>\n",
       "      <td>0</td>\n",
       "      <td>0</td>\n",
       "      <td>0</td>\n",
       "      <td>0</td>\n",
       "      <td>0</td>\n",
       "      <td>0</td>\n",
       "      <td>0</td>\n",
       "      <td>0</td>\n",
       "      <td>0</td>\n",
       "      <td>0</td>\n",
       "      <td>0</td>\n",
       "      <td>0</td>\n",
       "      <td>0</td>\n",
       "      <td>1</td>\n",
       "      <td>0</td>\n",
       "      <td>0</td>\n",
       "      <td>0</td>\n",
       "      <td>0</td>\n",
       "      <td>0</td>\n",
       "      <td>0</td>\n",
       "      <td>0</td>\n",
       "      <td>0</td>\n",
       "      <td>0</td>\n",
       "      <td>0</td>\n",
       "      <td>0</td>\n",
       "      <td>0</td>\n",
       "      <td>0</td>\n",
       "      <td>1</td>\n",
       "      <td>0</td>\n",
       "      <td>0</td>\n",
       "      <td>0</td>\n",
       "      <td>0</td>\n",
       "    </tr>\n",
       "    <tr>\n",
       "      <th>3</th>\n",
       "      <td>2019</td>\n",
       "      <td>1</td>\n",
       "      <td>0</td>\n",
       "      <td>0</td>\n",
       "      <td>0</td>\n",
       "      <td>0</td>\n",
       "      <td>0</td>\n",
       "      <td>0</td>\n",
       "      <td>0</td>\n",
       "      <td>0</td>\n",
       "      <td>0</td>\n",
       "      <td>1</td>\n",
       "      <td>0</td>\n",
       "      <td>0</td>\n",
       "      <td>0</td>\n",
       "      <td>0</td>\n",
       "      <td>0</td>\n",
       "      <td>0</td>\n",
       "      <td>0</td>\n",
       "      <td>0</td>\n",
       "      <td>0</td>\n",
       "      <td>0</td>\n",
       "      <td>0</td>\n",
       "      <td>0</td>\n",
       "      <td>0</td>\n",
       "      <td>0</td>\n",
       "      <td>0</td>\n",
       "      <td>0</td>\n",
       "      <td>0</td>\n",
       "      <td>0</td>\n",
       "      <td>0</td>\n",
       "      <td>0</td>\n",
       "      <td>0</td>\n",
       "      <td>0</td>\n",
       "      <td>0</td>\n",
       "      <td>1</td>\n",
       "      <td>0</td>\n",
       "      <td>0</td>\n",
       "      <td>0</td>\n",
       "      <td>0</td>\n",
       "      <td>0</td>\n",
       "      <td>0</td>\n",
       "      <td>0</td>\n",
       "      <td>0</td>\n",
       "      <td>0</td>\n",
       "      <td>0</td>\n",
       "      <td>0</td>\n",
       "      <td>0</td>\n",
       "      <td>0</td>\n",
       "      <td>0</td>\n",
       "      <td>1</td>\n",
       "      <td>0</td>\n",
       "      <td>0</td>\n",
       "      <td>0</td>\n",
       "    </tr>\n",
       "    <tr>\n",
       "      <th>4</th>\n",
       "      <td>2019</td>\n",
       "      <td>1</td>\n",
       "      <td>0</td>\n",
       "      <td>0</td>\n",
       "      <td>0</td>\n",
       "      <td>0</td>\n",
       "      <td>0</td>\n",
       "      <td>0</td>\n",
       "      <td>0</td>\n",
       "      <td>0</td>\n",
       "      <td>0</td>\n",
       "      <td>1</td>\n",
       "      <td>0</td>\n",
       "      <td>0</td>\n",
       "      <td>0</td>\n",
       "      <td>0</td>\n",
       "      <td>0</td>\n",
       "      <td>0</td>\n",
       "      <td>0</td>\n",
       "      <td>0</td>\n",
       "      <td>0</td>\n",
       "      <td>0</td>\n",
       "      <td>0</td>\n",
       "      <td>0</td>\n",
       "      <td>0</td>\n",
       "      <td>0</td>\n",
       "      <td>0</td>\n",
       "      <td>0</td>\n",
       "      <td>0</td>\n",
       "      <td>0</td>\n",
       "      <td>0</td>\n",
       "      <td>0</td>\n",
       "      <td>0</td>\n",
       "      <td>0</td>\n",
       "      <td>0</td>\n",
       "      <td>1</td>\n",
       "      <td>0</td>\n",
       "      <td>0</td>\n",
       "      <td>0</td>\n",
       "      <td>0</td>\n",
       "      <td>0</td>\n",
       "      <td>0</td>\n",
       "      <td>0</td>\n",
       "      <td>0</td>\n",
       "      <td>0</td>\n",
       "      <td>0</td>\n",
       "      <td>0</td>\n",
       "      <td>0</td>\n",
       "      <td>0</td>\n",
       "      <td>0</td>\n",
       "      <td>0</td>\n",
       "      <td>1</td>\n",
       "      <td>0</td>\n",
       "      <td>0</td>\n",
       "    </tr>\n",
       "    <tr>\n",
       "      <th>...</th>\n",
       "      <td>...</td>\n",
       "      <td>...</td>\n",
       "      <td>...</td>\n",
       "      <td>...</td>\n",
       "      <td>...</td>\n",
       "      <td>...</td>\n",
       "      <td>...</td>\n",
       "      <td>...</td>\n",
       "      <td>...</td>\n",
       "      <td>...</td>\n",
       "      <td>...</td>\n",
       "      <td>...</td>\n",
       "      <td>...</td>\n",
       "      <td>...</td>\n",
       "      <td>...</td>\n",
       "      <td>...</td>\n",
       "      <td>...</td>\n",
       "      <td>...</td>\n",
       "      <td>...</td>\n",
       "      <td>...</td>\n",
       "      <td>...</td>\n",
       "      <td>...</td>\n",
       "      <td>...</td>\n",
       "      <td>...</td>\n",
       "      <td>...</td>\n",
       "      <td>...</td>\n",
       "      <td>...</td>\n",
       "      <td>...</td>\n",
       "      <td>...</td>\n",
       "      <td>...</td>\n",
       "      <td>...</td>\n",
       "      <td>...</td>\n",
       "      <td>...</td>\n",
       "      <td>...</td>\n",
       "      <td>...</td>\n",
       "      <td>...</td>\n",
       "      <td>...</td>\n",
       "      <td>...</td>\n",
       "      <td>...</td>\n",
       "      <td>...</td>\n",
       "      <td>...</td>\n",
       "      <td>...</td>\n",
       "      <td>...</td>\n",
       "      <td>...</td>\n",
       "      <td>...</td>\n",
       "      <td>...</td>\n",
       "      <td>...</td>\n",
       "      <td>...</td>\n",
       "      <td>...</td>\n",
       "      <td>...</td>\n",
       "      <td>...</td>\n",
       "      <td>...</td>\n",
       "      <td>...</td>\n",
       "      <td>...</td>\n",
       "    </tr>\n",
       "    <tr>\n",
       "      <th>37336</th>\n",
       "      <td>2020</td>\n",
       "      <td>0</td>\n",
       "      <td>0</td>\n",
       "      <td>0</td>\n",
       "      <td>0</td>\n",
       "      <td>0</td>\n",
       "      <td>0</td>\n",
       "      <td>0</td>\n",
       "      <td>0</td>\n",
       "      <td>0</td>\n",
       "      <td>1</td>\n",
       "      <td>0</td>\n",
       "      <td>0</td>\n",
       "      <td>0</td>\n",
       "      <td>0</td>\n",
       "      <td>0</td>\n",
       "      <td>0</td>\n",
       "      <td>0</td>\n",
       "      <td>0</td>\n",
       "      <td>0</td>\n",
       "      <td>0</td>\n",
       "      <td>0</td>\n",
       "      <td>0</td>\n",
       "      <td>0</td>\n",
       "      <td>0</td>\n",
       "      <td>0</td>\n",
       "      <td>0</td>\n",
       "      <td>0</td>\n",
       "      <td>0</td>\n",
       "      <td>0</td>\n",
       "      <td>0</td>\n",
       "      <td>0</td>\n",
       "      <td>0</td>\n",
       "      <td>0</td>\n",
       "      <td>1</td>\n",
       "      <td>0</td>\n",
       "      <td>0</td>\n",
       "      <td>0</td>\n",
       "      <td>0</td>\n",
       "      <td>0</td>\n",
       "      <td>0</td>\n",
       "      <td>0</td>\n",
       "      <td>0</td>\n",
       "      <td>0</td>\n",
       "      <td>0</td>\n",
       "      <td>0</td>\n",
       "      <td>1</td>\n",
       "      <td>0</td>\n",
       "      <td>0</td>\n",
       "      <td>1</td>\n",
       "      <td>0</td>\n",
       "      <td>0</td>\n",
       "      <td>0</td>\n",
       "      <td>0</td>\n",
       "    </tr>\n",
       "    <tr>\n",
       "      <th>37337</th>\n",
       "      <td>2020</td>\n",
       "      <td>0</td>\n",
       "      <td>0</td>\n",
       "      <td>0</td>\n",
       "      <td>0</td>\n",
       "      <td>0</td>\n",
       "      <td>0</td>\n",
       "      <td>0</td>\n",
       "      <td>0</td>\n",
       "      <td>0</td>\n",
       "      <td>1</td>\n",
       "      <td>0</td>\n",
       "      <td>0</td>\n",
       "      <td>0</td>\n",
       "      <td>0</td>\n",
       "      <td>0</td>\n",
       "      <td>0</td>\n",
       "      <td>0</td>\n",
       "      <td>0</td>\n",
       "      <td>0</td>\n",
       "      <td>0</td>\n",
       "      <td>0</td>\n",
       "      <td>0</td>\n",
       "      <td>0</td>\n",
       "      <td>0</td>\n",
       "      <td>0</td>\n",
       "      <td>0</td>\n",
       "      <td>0</td>\n",
       "      <td>0</td>\n",
       "      <td>0</td>\n",
       "      <td>0</td>\n",
       "      <td>0</td>\n",
       "      <td>0</td>\n",
       "      <td>0</td>\n",
       "      <td>1</td>\n",
       "      <td>0</td>\n",
       "      <td>0</td>\n",
       "      <td>0</td>\n",
       "      <td>0</td>\n",
       "      <td>0</td>\n",
       "      <td>0</td>\n",
       "      <td>0</td>\n",
       "      <td>0</td>\n",
       "      <td>0</td>\n",
       "      <td>0</td>\n",
       "      <td>0</td>\n",
       "      <td>1</td>\n",
       "      <td>0</td>\n",
       "      <td>0</td>\n",
       "      <td>0</td>\n",
       "      <td>1</td>\n",
       "      <td>0</td>\n",
       "      <td>0</td>\n",
       "      <td>0</td>\n",
       "    </tr>\n",
       "    <tr>\n",
       "      <th>37338</th>\n",
       "      <td>2020</td>\n",
       "      <td>0</td>\n",
       "      <td>0</td>\n",
       "      <td>0</td>\n",
       "      <td>0</td>\n",
       "      <td>0</td>\n",
       "      <td>0</td>\n",
       "      <td>0</td>\n",
       "      <td>0</td>\n",
       "      <td>0</td>\n",
       "      <td>1</td>\n",
       "      <td>0</td>\n",
       "      <td>0</td>\n",
       "      <td>0</td>\n",
       "      <td>0</td>\n",
       "      <td>0</td>\n",
       "      <td>0</td>\n",
       "      <td>0</td>\n",
       "      <td>0</td>\n",
       "      <td>0</td>\n",
       "      <td>0</td>\n",
       "      <td>0</td>\n",
       "      <td>0</td>\n",
       "      <td>0</td>\n",
       "      <td>0</td>\n",
       "      <td>0</td>\n",
       "      <td>0</td>\n",
       "      <td>0</td>\n",
       "      <td>0</td>\n",
       "      <td>0</td>\n",
       "      <td>0</td>\n",
       "      <td>0</td>\n",
       "      <td>0</td>\n",
       "      <td>0</td>\n",
       "      <td>1</td>\n",
       "      <td>0</td>\n",
       "      <td>0</td>\n",
       "      <td>0</td>\n",
       "      <td>0</td>\n",
       "      <td>0</td>\n",
       "      <td>0</td>\n",
       "      <td>0</td>\n",
       "      <td>0</td>\n",
       "      <td>0</td>\n",
       "      <td>0</td>\n",
       "      <td>0</td>\n",
       "      <td>1</td>\n",
       "      <td>0</td>\n",
       "      <td>0</td>\n",
       "      <td>0</td>\n",
       "      <td>0</td>\n",
       "      <td>1</td>\n",
       "      <td>0</td>\n",
       "      <td>0</td>\n",
       "    </tr>\n",
       "    <tr>\n",
       "      <th>37339</th>\n",
       "      <td>2020</td>\n",
       "      <td>0</td>\n",
       "      <td>0</td>\n",
       "      <td>0</td>\n",
       "      <td>0</td>\n",
       "      <td>0</td>\n",
       "      <td>0</td>\n",
       "      <td>0</td>\n",
       "      <td>0</td>\n",
       "      <td>0</td>\n",
       "      <td>1</td>\n",
       "      <td>0</td>\n",
       "      <td>0</td>\n",
       "      <td>0</td>\n",
       "      <td>0</td>\n",
       "      <td>0</td>\n",
       "      <td>0</td>\n",
       "      <td>0</td>\n",
       "      <td>0</td>\n",
       "      <td>0</td>\n",
       "      <td>0</td>\n",
       "      <td>0</td>\n",
       "      <td>0</td>\n",
       "      <td>0</td>\n",
       "      <td>0</td>\n",
       "      <td>0</td>\n",
       "      <td>0</td>\n",
       "      <td>0</td>\n",
       "      <td>0</td>\n",
       "      <td>0</td>\n",
       "      <td>0</td>\n",
       "      <td>0</td>\n",
       "      <td>0</td>\n",
       "      <td>0</td>\n",
       "      <td>1</td>\n",
       "      <td>0</td>\n",
       "      <td>0</td>\n",
       "      <td>0</td>\n",
       "      <td>0</td>\n",
       "      <td>0</td>\n",
       "      <td>0</td>\n",
       "      <td>0</td>\n",
       "      <td>0</td>\n",
       "      <td>0</td>\n",
       "      <td>0</td>\n",
       "      <td>0</td>\n",
       "      <td>1</td>\n",
       "      <td>0</td>\n",
       "      <td>0</td>\n",
       "      <td>0</td>\n",
       "      <td>0</td>\n",
       "      <td>0</td>\n",
       "      <td>1</td>\n",
       "      <td>0</td>\n",
       "    </tr>\n",
       "    <tr>\n",
       "      <th>37340</th>\n",
       "      <td>2020</td>\n",
       "      <td>0</td>\n",
       "      <td>0</td>\n",
       "      <td>0</td>\n",
       "      <td>0</td>\n",
       "      <td>0</td>\n",
       "      <td>0</td>\n",
       "      <td>0</td>\n",
       "      <td>0</td>\n",
       "      <td>0</td>\n",
       "      <td>1</td>\n",
       "      <td>0</td>\n",
       "      <td>0</td>\n",
       "      <td>0</td>\n",
       "      <td>0</td>\n",
       "      <td>0</td>\n",
       "      <td>0</td>\n",
       "      <td>0</td>\n",
       "      <td>0</td>\n",
       "      <td>0</td>\n",
       "      <td>0</td>\n",
       "      <td>0</td>\n",
       "      <td>0</td>\n",
       "      <td>0</td>\n",
       "      <td>0</td>\n",
       "      <td>0</td>\n",
       "      <td>0</td>\n",
       "      <td>0</td>\n",
       "      <td>0</td>\n",
       "      <td>0</td>\n",
       "      <td>0</td>\n",
       "      <td>0</td>\n",
       "      <td>0</td>\n",
       "      <td>0</td>\n",
       "      <td>1</td>\n",
       "      <td>0</td>\n",
       "      <td>0</td>\n",
       "      <td>0</td>\n",
       "      <td>0</td>\n",
       "      <td>0</td>\n",
       "      <td>0</td>\n",
       "      <td>0</td>\n",
       "      <td>0</td>\n",
       "      <td>0</td>\n",
       "      <td>0</td>\n",
       "      <td>0</td>\n",
       "      <td>1</td>\n",
       "      <td>0</td>\n",
       "      <td>0</td>\n",
       "      <td>0</td>\n",
       "      <td>0</td>\n",
       "      <td>0</td>\n",
       "      <td>0</td>\n",
       "      <td>1</td>\n",
       "    </tr>\n",
       "  </tbody>\n",
       "</table>\n",
       "<p>37341 rows × 54 columns</p>\n",
       "</div>"
      ],
      "text/plain": [
       "       year  ...  day_of_week_Wednesday\n",
       "0      2019  ...                      0\n",
       "1      2019  ...                      0\n",
       "2      2019  ...                      0\n",
       "3      2019  ...                      0\n",
       "4      2019  ...                      0\n",
       "...     ...  ...                    ...\n",
       "37336  2020  ...                      0\n",
       "37337  2020  ...                      0\n",
       "37338  2020  ...                      0\n",
       "37339  2020  ...                      0\n",
       "37340  2020  ...                      1\n",
       "\n",
       "[37341 rows x 54 columns]"
      ]
     },
     "execution_count": 44,
     "metadata": {
      "tags": []
     },
     "output_type": "execute_result"
    }
   ],
   "source": [
    "Y=eng_data['average demand']\n",
    "eng_data=eng_data.drop(columns=['average demand'])\n",
    "eng_data"
   ]
  },
  {
   "cell_type": "code",
   "execution_count": 49,
   "metadata": {
    "colab": {
     "base_uri": "https://localhost:8080/"
    },
    "id": "hUKXt76K9x2N",
    "outputId": "d955555a-9c69-4f2a-a2d5-f1433007037f"
   },
   "outputs": [
    {
     "name": "stdout",
     "output_type": "stream",
     "text": [
      "{'alpha': 0.9,\n",
      " 'ccp_alpha': 0.0,\n",
      " 'criterion': 'friedman_mse',\n",
      " 'init': None,\n",
      " 'learning_rate': 0.1,\n",
      " 'loss': 'ls',\n",
      " 'max_depth': 3,\n",
      " 'max_features': None,\n",
      " 'max_leaf_nodes': None,\n",
      " 'min_impurity_decrease': 0.0,\n",
      " 'min_impurity_split': None,\n",
      " 'min_samples_leaf': 1,\n",
      " 'min_samples_split': 2,\n",
      " 'min_weight_fraction_leaf': 0.0,\n",
      " 'n_estimators': 100,\n",
      " 'n_iter_no_change': None,\n",
      " 'presort': 'deprecated',\n",
      " 'random_state': 42,\n",
      " 'subsample': 1.0,\n",
      " 'tol': 0.0001,\n",
      " 'validation_fraction': 0.1,\n",
      " 'verbose': 0,\n",
      " 'warm_start': False}\n"
     ]
    }
   ],
   "source": [
    "from sklearn.ensemble import GradientBoostingRegressor\n",
    "from sklearn.model_selection import RandomizedSearchCV, train_test_split\n",
    "from pprint import pprint\n",
    "# there are default values for the hyper parameters for the GBR model\n",
    "gbt = GradientBoostingRegressor(random_state = 42)\n",
    "pprint(gbt.get_params())"
   ]
  },
  {
   "cell_type": "code",
   "execution_count": 50,
   "metadata": {
    "colab": {
     "base_uri": "https://localhost:8080/"
    },
    "id": "25qqAG7cOrj9",
    "outputId": "bd479c89-923e-47a8-9c15-52084bf9cf37"
   },
   "outputs": [
    {
     "name": "stdout",
     "output_type": "stream",
     "text": [
      "{'learning_rate': [0.01, 0.1],\n",
      " 'max_depth': [5, 12, 20, 28, 35, 43, 51, 58, 66, 74, None],\n",
      " 'min_samples_leaf': [2, 4, 7],\n",
      " 'min_samples_split': [5, 10, 16],\n",
      " 'n_estimators': [100, 200, 300, 400, 500]}\n"
     ]
    }
   ],
   "source": [
    "## Define the Grid for GBT\n",
    "\n",
    "# Number of trees in random forest\n",
    "n_estimators = [int(x) for x in np.linspace(start = 100, stop = 500, num = 5)]\n",
    "# Maximum number of levels in tree\n",
    "max_depth = [int(x) for x in np.linspace(5, 74, num = 10)]\n",
    "max_depth.append(None)\n",
    "# Minimum number of samples required to split a node\n",
    "min_samples_split = [5, 10, 16]\n",
    "# Minimum number of samples required at each leaf node\n",
    "min_samples_leaf = [2, 4, 7]\n",
    "# Method of selecting samples for training each tree\n",
    "learning_rate = [0.01, 0.1]\n",
    "# Create the random grid\n",
    "random_grid = {'n_estimators': n_estimators,\n",
    "               'max_depth': max_depth,\n",
    "               'min_samples_split': min_samples_split,\n",
    "               'min_samples_leaf': min_samples_leaf,\n",
    "               'learning_rate': learning_rate}\n",
    "pprint(random_grid)"
   ]
  },
  {
   "cell_type": "code",
   "execution_count": 51,
   "metadata": {
    "id": "unSq5mBoQY-O"
   },
   "outputs": [],
   "source": [
    "# Use the random grid to search for best hyperparameters\n",
    "# Random search of parameters, using 3 fold cross validation, \n",
    "# search across 10 different combinations, and use all available cores\n",
    "gbt_random = RandomizedSearchCV(estimator = gbt, # the base model\n",
    "                               param_distributions = random_grid, # grid of hyper parameters\n",
    "                               n_iter = 10, # number of combinations of random hyper parameters to choose\n",
    "                               cv = 3,# # 3-fold\n",
    "                               verbose=2,  # print some logs while evaluating the different combinations\n",
    "                               random_state=42,\n",
    "                               n_jobs = 1) # use all cores in the machine to train (parallel)\n"
   ]
  },
  {
   "cell_type": "code",
   "execution_count": 52,
   "metadata": {
    "id": "cl3fhqROQbT0"
   },
   "outputs": [],
   "source": [
    "X_train, X_test, y_train, y_test = \\\n",
    "    train_test_split(eng_data,\n",
    "                     Y,\n",
    "                     test_size=0.2,\n",
    "                     random_state=42)"
   ]
  },
  {
   "cell_type": "code",
   "execution_count": 53,
   "metadata": {
    "colab": {
     "base_uri": "https://localhost:8080/"
    },
    "id": "kLtzpdN5Q0K6",
    "outputId": "113fe966-7b56-41dc-c5d7-520002dcde26"
   },
   "outputs": [
    {
     "data": {
      "text/plain": [
       "GradientBoostingRegressor(alpha=0.9, ccp_alpha=0.0, criterion='friedman_mse',\n",
       "                          init=None, learning_rate=0.1, loss='ls', max_depth=3,\n",
       "                          max_features=None, max_leaf_nodes=None,\n",
       "                          min_impurity_decrease=0.0, min_impurity_split=None,\n",
       "                          min_samples_leaf=1, min_samples_split=10,\n",
       "                          min_weight_fraction_leaf=0.0, n_estimators=100,\n",
       "                          n_iter_no_change=None, presort='deprecated',\n",
       "                          random_state=None, subsample=1.0, tol=0.0001,\n",
       "                          validation_fraction=0.1, verbose=0, warm_start=False)"
      ]
     },
     "execution_count": 53,
     "metadata": {
      "tags": []
     },
     "output_type": "execute_result"
    }
   ],
   "source": [
    "GradientBoostingRegressor(n_estimators = 10, min_samples_split= 5)\n",
    "GradientBoostingRegressor(n_estimators = 10, min_samples_split= 10)\n",
    "GradientBoostingRegressor(n_estimators = 10, min_samples_split= 15)\n",
    "GradientBoostingRegressor(n_estimators = 10, min_samples_split= 20)\n",
    "GradientBoostingRegressor(n_estimators = 100, min_samples_split= 10)"
   ]
  },
  {
   "cell_type": "code",
   "execution_count": 54,
   "metadata": {
    "colab": {
     "base_uri": "https://localhost:8080/"
    },
    "id": "OCDu_0vdQ3qp",
    "outputId": "cfcfa959-0113-4760-ad22-5a06d214d4bb"
   },
   "outputs": [
    {
     "name": "stdout",
     "output_type": "stream",
     "text": [
      "Fitting 3 folds for each of 10 candidates, totalling 30 fits\n",
      "[CV] n_estimators=400, min_samples_split=5, min_samples_leaf=7, max_depth=35, learning_rate=0.01 \n"
     ]
    },
    {
     "name": "stderr",
     "output_type": "stream",
     "text": [
      "[Parallel(n_jobs=1)]: Using backend SequentialBackend with 1 concurrent workers.\n"
     ]
    },
    {
     "name": "stdout",
     "output_type": "stream",
     "text": [
      "[CV]  n_estimators=400, min_samples_split=5, min_samples_leaf=7, max_depth=35, learning_rate=0.01, total=  46.1s\n",
      "[CV] n_estimators=400, min_samples_split=5, min_samples_leaf=7, max_depth=35, learning_rate=0.01 \n"
     ]
    },
    {
     "name": "stderr",
     "output_type": "stream",
     "text": [
      "[Parallel(n_jobs=1)]: Done   1 out of   1 | elapsed:   46.1s remaining:    0.0s\n"
     ]
    },
    {
     "name": "stdout",
     "output_type": "stream",
     "text": [
      "[CV]  n_estimators=400, min_samples_split=5, min_samples_leaf=7, max_depth=35, learning_rate=0.01, total=  46.1s\n",
      "[CV] n_estimators=400, min_samples_split=5, min_samples_leaf=7, max_depth=35, learning_rate=0.01 \n",
      "[CV]  n_estimators=400, min_samples_split=5, min_samples_leaf=7, max_depth=35, learning_rate=0.01, total=  46.6s\n",
      "[CV] n_estimators=200, min_samples_split=5, min_samples_leaf=4, max_depth=58, learning_rate=0.01 \n",
      "[CV]  n_estimators=200, min_samples_split=5, min_samples_leaf=4, max_depth=58, learning_rate=0.01, total=  25.2s\n",
      "[CV] n_estimators=200, min_samples_split=5, min_samples_leaf=4, max_depth=58, learning_rate=0.01 \n",
      "[CV]  n_estimators=200, min_samples_split=5, min_samples_leaf=4, max_depth=58, learning_rate=0.01, total=  25.3s\n",
      "[CV] n_estimators=200, min_samples_split=5, min_samples_leaf=4, max_depth=58, learning_rate=0.01 \n",
      "[CV]  n_estimators=200, min_samples_split=5, min_samples_leaf=4, max_depth=58, learning_rate=0.01, total=  25.1s\n",
      "[CV] n_estimators=200, min_samples_split=10, min_samples_leaf=2, max_depth=5, learning_rate=0.1 \n",
      "[CV]  n_estimators=200, min_samples_split=10, min_samples_leaf=2, max_depth=5, learning_rate=0.1, total=   6.7s\n",
      "[CV] n_estimators=200, min_samples_split=10, min_samples_leaf=2, max_depth=5, learning_rate=0.1 \n",
      "[CV]  n_estimators=200, min_samples_split=10, min_samples_leaf=2, max_depth=5, learning_rate=0.1, total=   6.8s\n",
      "[CV] n_estimators=200, min_samples_split=10, min_samples_leaf=2, max_depth=5, learning_rate=0.1 \n",
      "[CV]  n_estimators=200, min_samples_split=10, min_samples_leaf=2, max_depth=5, learning_rate=0.1, total=   6.8s\n",
      "[CV] n_estimators=500, min_samples_split=10, min_samples_leaf=7, max_depth=51, learning_rate=0.01 \n",
      "[CV]  n_estimators=500, min_samples_split=10, min_samples_leaf=7, max_depth=51, learning_rate=0.01, total=  58.4s\n",
      "[CV] n_estimators=500, min_samples_split=10, min_samples_leaf=7, max_depth=51, learning_rate=0.01 \n",
      "[CV]  n_estimators=500, min_samples_split=10, min_samples_leaf=7, max_depth=51, learning_rate=0.01, total=  58.4s\n",
      "[CV] n_estimators=500, min_samples_split=10, min_samples_leaf=7, max_depth=51, learning_rate=0.01 \n",
      "[CV]  n_estimators=500, min_samples_split=10, min_samples_leaf=7, max_depth=51, learning_rate=0.01, total=  57.9s\n",
      "[CV] n_estimators=400, min_samples_split=16, min_samples_leaf=7, max_depth=12, learning_rate=0.01 \n",
      "[CV]  n_estimators=400, min_samples_split=16, min_samples_leaf=7, max_depth=12, learning_rate=0.01, total=  30.2s\n",
      "[CV] n_estimators=400, min_samples_split=16, min_samples_leaf=7, max_depth=12, learning_rate=0.01 \n",
      "[CV]  n_estimators=400, min_samples_split=16, min_samples_leaf=7, max_depth=12, learning_rate=0.01, total=  29.9s\n",
      "[CV] n_estimators=400, min_samples_split=16, min_samples_leaf=7, max_depth=12, learning_rate=0.01 \n",
      "[CV]  n_estimators=400, min_samples_split=16, min_samples_leaf=7, max_depth=12, learning_rate=0.01, total=  29.7s\n",
      "[CV] n_estimators=100, min_samples_split=16, min_samples_leaf=7, max_depth=5, learning_rate=0.1 \n",
      "[CV]  n_estimators=100, min_samples_split=16, min_samples_leaf=7, max_depth=5, learning_rate=0.1, total=   3.4s\n",
      "[CV] n_estimators=100, min_samples_split=16, min_samples_leaf=7, max_depth=5, learning_rate=0.1 \n",
      "[CV]  n_estimators=100, min_samples_split=16, min_samples_leaf=7, max_depth=5, learning_rate=0.1, total=   3.4s\n",
      "[CV] n_estimators=100, min_samples_split=16, min_samples_leaf=7, max_depth=5, learning_rate=0.1 \n",
      "[CV]  n_estimators=100, min_samples_split=16, min_samples_leaf=7, max_depth=5, learning_rate=0.1, total=   3.4s\n",
      "[CV] n_estimators=100, min_samples_split=16, min_samples_leaf=2, max_depth=51, learning_rate=0.01 \n",
      "[CV]  n_estimators=100, min_samples_split=16, min_samples_leaf=2, max_depth=51, learning_rate=0.01, total=  12.7s\n",
      "[CV] n_estimators=100, min_samples_split=16, min_samples_leaf=2, max_depth=51, learning_rate=0.01 \n",
      "[CV]  n_estimators=100, min_samples_split=16, min_samples_leaf=2, max_depth=51, learning_rate=0.01, total=  12.7s\n",
      "[CV] n_estimators=100, min_samples_split=16, min_samples_leaf=2, max_depth=51, learning_rate=0.01 \n",
      "[CV]  n_estimators=100, min_samples_split=16, min_samples_leaf=2, max_depth=51, learning_rate=0.01, total=  12.7s\n",
      "[CV] n_estimators=300, min_samples_split=5, min_samples_leaf=4, max_depth=20, learning_rate=0.01 \n",
      "[CV]  n_estimators=300, min_samples_split=5, min_samples_leaf=4, max_depth=20, learning_rate=0.01, total=  32.2s\n",
      "[CV] n_estimators=300, min_samples_split=5, min_samples_leaf=4, max_depth=20, learning_rate=0.01 \n",
      "[CV]  n_estimators=300, min_samples_split=5, min_samples_leaf=4, max_depth=20, learning_rate=0.01, total=  32.4s\n",
      "[CV] n_estimators=300, min_samples_split=5, min_samples_leaf=4, max_depth=20, learning_rate=0.01 \n",
      "[CV]  n_estimators=300, min_samples_split=5, min_samples_leaf=4, max_depth=20, learning_rate=0.01, total=  33.1s\n",
      "[CV] n_estimators=500, min_samples_split=16, min_samples_leaf=2, max_depth=12, learning_rate=0.01 \n",
      "[CV]  n_estimators=500, min_samples_split=16, min_samples_leaf=2, max_depth=12, learning_rate=0.01, total=  37.4s\n",
      "[CV] n_estimators=500, min_samples_split=16, min_samples_leaf=2, max_depth=12, learning_rate=0.01 \n",
      "[CV]  n_estimators=500, min_samples_split=16, min_samples_leaf=2, max_depth=12, learning_rate=0.01, total=  38.1s\n",
      "[CV] n_estimators=500, min_samples_split=16, min_samples_leaf=2, max_depth=12, learning_rate=0.01 \n",
      "[CV]  n_estimators=500, min_samples_split=16, min_samples_leaf=2, max_depth=12, learning_rate=0.01, total=  38.2s\n",
      "[CV] n_estimators=200, min_samples_split=16, min_samples_leaf=2, max_depth=5, learning_rate=0.1 \n",
      "[CV]  n_estimators=200, min_samples_split=16, min_samples_leaf=2, max_depth=5, learning_rate=0.1, total=   6.9s\n",
      "[CV] n_estimators=200, min_samples_split=16, min_samples_leaf=2, max_depth=5, learning_rate=0.1 \n",
      "[CV]  n_estimators=200, min_samples_split=16, min_samples_leaf=2, max_depth=5, learning_rate=0.1, total=   6.9s\n",
      "[CV] n_estimators=200, min_samples_split=16, min_samples_leaf=2, max_depth=5, learning_rate=0.1 \n",
      "[CV]  n_estimators=200, min_samples_split=16, min_samples_leaf=2, max_depth=5, learning_rate=0.1, total=   6.8s\n"
     ]
    },
    {
     "name": "stderr",
     "output_type": "stream",
     "text": [
      "[Parallel(n_jobs=1)]: Done  30 out of  30 | elapsed: 13.0min finished\n"
     ]
    },
    {
     "data": {
      "text/plain": [
       "RandomizedSearchCV(cv=3, error_score=nan,\n",
       "                   estimator=GradientBoostingRegressor(alpha=0.9, ccp_alpha=0.0,\n",
       "                                                       criterion='friedman_mse',\n",
       "                                                       init=None,\n",
       "                                                       learning_rate=0.1,\n",
       "                                                       loss='ls', max_depth=3,\n",
       "                                                       max_features=None,\n",
       "                                                       max_leaf_nodes=None,\n",
       "                                                       min_impurity_decrease=0.0,\n",
       "                                                       min_impurity_split=None,\n",
       "                                                       min_samples_leaf=1,\n",
       "                                                       min_samples_split=2,\n",
       "                                                       min_weight_fraction_leaf=0.0,\n",
       "                                                       n_estimators=100,\n",
       "                                                       n_...\n",
       "                                                       verbose=0,\n",
       "                                                       warm_start=False),\n",
       "                   iid='deprecated', n_iter=10, n_jobs=1,\n",
       "                   param_distributions={'learning_rate': [0.01, 0.1],\n",
       "                                        'max_depth': [5, 12, 20, 28, 35, 43, 51,\n",
       "                                                      58, 66, 74, None],\n",
       "                                        'min_samples_leaf': [2, 4, 7],\n",
       "                                        'min_samples_split': [5, 10, 16],\n",
       "                                        'n_estimators': [100, 200, 300, 400,\n",
       "                                                         500]},\n",
       "                   pre_dispatch='2*n_jobs', random_state=42, refit=True,\n",
       "                   return_train_score=False, scoring=None, verbose=2)"
      ]
     },
     "execution_count": 54,
     "metadata": {
      "tags": []
     },
     "output_type": "execute_result"
    }
   ],
   "source": [
    "gbt_random.fit(X_train, y_train)"
   ]
  },
  {
   "cell_type": "code",
   "execution_count": 55,
   "metadata": {
    "colab": {
     "base_uri": "https://localhost:8080/"
    },
    "id": "seb8-dvZUie8",
    "outputId": "dcf35442-9919-4945-9a05-355b167a23c9"
   },
   "outputs": [
    {
     "data": {
      "text/plain": [
       "GradientBoostingRegressor(alpha=0.9, ccp_alpha=0.0, criterion='friedman_mse',\n",
       "                          init=None, learning_rate=0.01, loss='ls',\n",
       "                          max_depth=51, max_features=None, max_leaf_nodes=None,\n",
       "                          min_impurity_decrease=0.0, min_impurity_split=None,\n",
       "                          min_samples_leaf=7, min_samples_split=10,\n",
       "                          min_weight_fraction_leaf=0.0, n_estimators=500,\n",
       "                          n_iter_no_change=None, presort='deprecated',\n",
       "                          random_state=42, subsample=1.0, tol=0.0001,\n",
       "                          validation_fraction=0.1, verbose=0, warm_start=False)"
      ]
     },
     "execution_count": 55,
     "metadata": {
      "tags": []
     },
     "output_type": "execute_result"
    }
   ],
   "source": [
    "best_gbt_model = gbt_random.best_estimator_\n",
    "best_gbt_model"
   ]
  },
  {
   "cell_type": "code",
   "execution_count": 56,
   "metadata": {
    "colab": {
     "base_uri": "https://localhost:8080/"
    },
    "id": "O67k5n7uU8YV",
    "outputId": "870faa73-143d-4bf6-cdd7-5116382f6515"
   },
   "outputs": [
    {
     "data": {
      "text/plain": [
       "{'learning_rate': 0.01,\n",
       " 'max_depth': 51,\n",
       " 'min_samples_leaf': 7,\n",
       " 'min_samples_split': 10,\n",
       " 'n_estimators': 500}"
      ]
     },
     "execution_count": 56,
     "metadata": {
      "tags": []
     },
     "output_type": "execute_result"
    }
   ],
   "source": [
    "gbt_random.best_params_"
   ]
  },
  {
   "cell_type": "code",
   "execution_count": 57,
   "metadata": {
    "colab": {
     "base_uri": "https://localhost:8080/"
    },
    "id": "j3OhUVf6U_Yz",
    "outputId": "7250d5b5-20de-46c8-aac4-19a30ab568c4"
   },
   "outputs": [
    {
     "data": {
      "text/plain": [
       "0.9221449046410758"
      ]
     },
     "execution_count": 57,
     "metadata": {
      "tags": []
     },
     "output_type": "execute_result"
    }
   ],
   "source": [
    "gbt_random.best_score_"
   ]
  },
  {
   "cell_type": "code",
   "execution_count": 58,
   "metadata": {
    "colab": {
     "base_uri": "https://localhost:8080/"
    },
    "id": "RxRHUiZmVCKy",
    "outputId": "8a06d607-9785-464d-def3-d13fcb1a2651"
   },
   "outputs": [
    {
     "data": {
      "text/plain": [
       "0.9420062828479409"
      ]
     },
     "execution_count": 58,
     "metadata": {
      "tags": []
     },
     "output_type": "execute_result"
    }
   ],
   "source": [
    "# r^2\n",
    "best_gbt_model.score(X_test, y_test)"
   ]
  },
  {
   "cell_type": "code",
   "execution_count": 59,
   "metadata": {
    "id": "gpRc7GRYWKnM"
   },
   "outputs": [],
   "source": [
    "import xgboost as xgb"
   ]
  },
  {
   "cell_type": "code",
   "execution_count": 63,
   "metadata": {
    "colab": {
     "base_uri": "https://localhost:8080/"
    },
    "id": "9rwuGcb3WRay",
    "outputId": "d7154179-b0c0-43bf-c454-323eb30e4fd6"
   },
   "outputs": [
    {
     "data": {
      "text/plain": [
       "54"
      ]
     },
     "execution_count": 63,
     "metadata": {
      "tags": []
     },
     "output_type": "execute_result"
    }
   ],
   "source": [
    "len(best_gbt_model.feature_importances_)"
   ]
  },
  {
   "cell_type": "code",
   "execution_count": 78,
   "metadata": {
    "colab": {
     "base_uri": "https://localhost:8080/",
     "height": 343
    },
    "id": "GuVbbEzoXnwe",
    "outputId": "598662c1-37ac-4713-b79e-e598ef534d1b"
   },
   "outputs": [
    {
     "data": {
      "text/html": [
       "<div>\n",
       "<style scoped>\n",
       "    .dataframe tbody tr th:only-of-type {\n",
       "        vertical-align: middle;\n",
       "    }\n",
       "\n",
       "    .dataframe tbody tr th {\n",
       "        vertical-align: top;\n",
       "    }\n",
       "\n",
       "    .dataframe thead th {\n",
       "        text-align: right;\n",
       "    }\n",
       "</style>\n",
       "<table border=\"1\" class=\"dataframe\">\n",
       "  <thead>\n",
       "    <tr style=\"text-align: right;\">\n",
       "      <th></th>\n",
       "      <th>features</th>\n",
       "      <th>importance</th>\n",
       "    </tr>\n",
       "  </thead>\n",
       "  <tbody>\n",
       "    <tr>\n",
       "      <th>9</th>\n",
       "      <td>Council District (Start)_9</td>\n",
       "      <td>0.391728</td>\n",
       "    </tr>\n",
       "    <tr>\n",
       "      <th>0</th>\n",
       "      <td>year</td>\n",
       "      <td>0.133095</td>\n",
       "    </tr>\n",
       "    <tr>\n",
       "      <th>37</th>\n",
       "      <td>month_3</td>\n",
       "      <td>0.029059</td>\n",
       "    </tr>\n",
       "    <tr>\n",
       "      <th>28</th>\n",
       "      <td>hour_17</td>\n",
       "      <td>0.026524</td>\n",
       "    </tr>\n",
       "    <tr>\n",
       "      <th>49</th>\n",
       "      <td>day_of_week_Saturday</td>\n",
       "      <td>0.025254</td>\n",
       "    </tr>\n",
       "    <tr>\n",
       "      <th>46</th>\n",
       "      <td>month_12</td>\n",
       "      <td>0.018635</td>\n",
       "    </tr>\n",
       "    <tr>\n",
       "      <th>17</th>\n",
       "      <td>hour_6</td>\n",
       "      <td>0.016822</td>\n",
       "    </tr>\n",
       "    <tr>\n",
       "      <th>14</th>\n",
       "      <td>hour_3</td>\n",
       "      <td>0.016801</td>\n",
       "    </tr>\n",
       "    <tr>\n",
       "      <th>15</th>\n",
       "      <td>hour_4</td>\n",
       "      <td>0.016546</td>\n",
       "    </tr>\n",
       "    <tr>\n",
       "      <th>16</th>\n",
       "      <td>hour_5</td>\n",
       "      <td>0.016022</td>\n",
       "    </tr>\n",
       "  </tbody>\n",
       "</table>\n",
       "</div>"
      ],
      "text/plain": [
       "                      features  importance\n",
       "9   Council District (Start)_9    0.391728\n",
       "0                         year    0.133095\n",
       "37                     month_3    0.029059\n",
       "28                     hour_17    0.026524\n",
       "49        day_of_week_Saturday    0.025254\n",
       "46                    month_12    0.018635\n",
       "17                      hour_6    0.016822\n",
       "14                      hour_3    0.016801\n",
       "15                      hour_4    0.016546\n",
       "16                      hour_5    0.016022"
      ]
     },
     "execution_count": 78,
     "metadata": {
      "tags": []
     },
     "output_type": "execute_result"
    }
   ],
   "source": [
    "# Most important features\n",
    "pd.DataFrame({\"features\":eng_data.columns,\"importance\":best_gbt_model.feature_importances_}).sort_values(by=\"importance\",ascending=False).head(10)"
   ]
  }
 ],
 "metadata": {
  "colab": {
   "collapsed_sections": [],
   "name": "Untitled0.ipynb",
   "provenance": []
  },
  "kernelspec": {
   "display_name": "Python 3",
   "language": "python",
   "name": "python3"
  },
  "language_info": {
   "codemirror_mode": {
    "name": "ipython",
    "version": 3
   },
   "file_extension": ".py",
   "mimetype": "text/x-python",
   "name": "python",
   "nbconvert_exporter": "python",
   "pygments_lexer": "ipython3",
   "version": "3.8.5"
  }
 },
 "nbformat": 4,
 "nbformat_minor": 1
}
